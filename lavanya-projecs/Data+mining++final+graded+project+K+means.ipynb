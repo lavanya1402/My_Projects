{
 "cells": [
  {
   "cell_type": "code",
   "execution_count": 6,
   "id": "c084c1f4",
   "metadata": {},
   "outputs": [],
   "source": [
    "import numpy as np\n",
    "import pandas as pd"
   ]
  },
  {
   "cell_type": "code",
   "execution_count": 7,
   "id": "67f70349",
   "metadata": {},
   "outputs": [],
   "source": [
    "df = pd.read_excel(r\"C:\\Users\\lavan\\OneDrive\\Desktop\\Great learning\\Data Mining\\Graded Project Data\\Clustering Clean Ads_Data-2.xlsx\")"
   ]
  },
  {
   "cell_type": "code",
   "execution_count": 8,
   "id": "ec463e38",
   "metadata": {},
   "outputs": [
    {
     "data": {
      "text/html": [
       "<div>\n",
       "<style scoped>\n",
       "    .dataframe tbody tr th:only-of-type {\n",
       "        vertical-align: middle;\n",
       "    }\n",
       "\n",
       "    .dataframe tbody tr th {\n",
       "        vertical-align: top;\n",
       "    }\n",
       "\n",
       "    .dataframe thead th {\n",
       "        text-align: right;\n",
       "    }\n",
       "</style>\n",
       "<table border=\"1\" class=\"dataframe\">\n",
       "  <thead>\n",
       "    <tr style=\"text-align: right;\">\n",
       "      <th></th>\n",
       "      <th>Timestamp</th>\n",
       "      <th>InventoryType</th>\n",
       "      <th>Ad - Length</th>\n",
       "      <th>Ad- Width</th>\n",
       "      <th>Ad Size</th>\n",
       "      <th>Ad Type</th>\n",
       "      <th>Platform</th>\n",
       "      <th>Device Type</th>\n",
       "      <th>Format</th>\n",
       "      <th>Available_Impressions</th>\n",
       "      <th>Matched_Queries</th>\n",
       "      <th>Impressions</th>\n",
       "      <th>Clicks</th>\n",
       "      <th>Spend</th>\n",
       "      <th>Fee</th>\n",
       "      <th>Revenue</th>\n",
       "      <th>CTR</th>\n",
       "      <th>CPM</th>\n",
       "      <th>CPC</th>\n",
       "    </tr>\n",
       "  </thead>\n",
       "  <tbody>\n",
       "    <tr>\n",
       "      <th>0</th>\n",
       "      <td>2020-9-2-17</td>\n",
       "      <td>Format1</td>\n",
       "      <td>300</td>\n",
       "      <td>250</td>\n",
       "      <td>75000</td>\n",
       "      <td>Inter222</td>\n",
       "      <td>Video</td>\n",
       "      <td>Desktop</td>\n",
       "      <td>Display</td>\n",
       "      <td>1806</td>\n",
       "      <td>325</td>\n",
       "      <td>323</td>\n",
       "      <td>1</td>\n",
       "      <td>0.0</td>\n",
       "      <td>0.35</td>\n",
       "      <td>0.0</td>\n",
       "      <td>0.0031</td>\n",
       "      <td>0.0</td>\n",
       "      <td>0.0</td>\n",
       "    </tr>\n",
       "    <tr>\n",
       "      <th>1</th>\n",
       "      <td>2020-9-2-10</td>\n",
       "      <td>Format1</td>\n",
       "      <td>300</td>\n",
       "      <td>250</td>\n",
       "      <td>75000</td>\n",
       "      <td>Inter227</td>\n",
       "      <td>App</td>\n",
       "      <td>Mobile</td>\n",
       "      <td>Video</td>\n",
       "      <td>1780</td>\n",
       "      <td>285</td>\n",
       "      <td>285</td>\n",
       "      <td>1</td>\n",
       "      <td>0.0</td>\n",
       "      <td>0.35</td>\n",
       "      <td>0.0</td>\n",
       "      <td>0.0035</td>\n",
       "      <td>0.0</td>\n",
       "      <td>0.0</td>\n",
       "    </tr>\n",
       "    <tr>\n",
       "      <th>2</th>\n",
       "      <td>2020-9-1-22</td>\n",
       "      <td>Format1</td>\n",
       "      <td>300</td>\n",
       "      <td>250</td>\n",
       "      <td>75000</td>\n",
       "      <td>Inter222</td>\n",
       "      <td>Video</td>\n",
       "      <td>Desktop</td>\n",
       "      <td>Display</td>\n",
       "      <td>2727</td>\n",
       "      <td>356</td>\n",
       "      <td>355</td>\n",
       "      <td>1</td>\n",
       "      <td>0.0</td>\n",
       "      <td>0.35</td>\n",
       "      <td>0.0</td>\n",
       "      <td>0.0028</td>\n",
       "      <td>0.0</td>\n",
       "      <td>0.0</td>\n",
       "    </tr>\n",
       "    <tr>\n",
       "      <th>3</th>\n",
       "      <td>2020-9-3-20</td>\n",
       "      <td>Format1</td>\n",
       "      <td>300</td>\n",
       "      <td>250</td>\n",
       "      <td>75000</td>\n",
       "      <td>Inter228</td>\n",
       "      <td>Video</td>\n",
       "      <td>Mobile</td>\n",
       "      <td>Video</td>\n",
       "      <td>2430</td>\n",
       "      <td>497</td>\n",
       "      <td>495</td>\n",
       "      <td>1</td>\n",
       "      <td>0.0</td>\n",
       "      <td>0.35</td>\n",
       "      <td>0.0</td>\n",
       "      <td>0.0020</td>\n",
       "      <td>0.0</td>\n",
       "      <td>0.0</td>\n",
       "    </tr>\n",
       "    <tr>\n",
       "      <th>4</th>\n",
       "      <td>2020-9-4-15</td>\n",
       "      <td>Format1</td>\n",
       "      <td>300</td>\n",
       "      <td>250</td>\n",
       "      <td>75000</td>\n",
       "      <td>Inter217</td>\n",
       "      <td>Web</td>\n",
       "      <td>Desktop</td>\n",
       "      <td>Video</td>\n",
       "      <td>1218</td>\n",
       "      <td>242</td>\n",
       "      <td>242</td>\n",
       "      <td>1</td>\n",
       "      <td>0.0</td>\n",
       "      <td>0.35</td>\n",
       "      <td>0.0</td>\n",
       "      <td>0.0041</td>\n",
       "      <td>0.0</td>\n",
       "      <td>0.0</td>\n",
       "    </tr>\n",
       "  </tbody>\n",
       "</table>\n",
       "</div>"
      ],
      "text/plain": [
       "     Timestamp InventoryType  Ad - Length  Ad- Width  Ad Size   Ad Type  \\\n",
       "0  2020-9-2-17       Format1          300        250    75000  Inter222   \n",
       "1  2020-9-2-10       Format1          300        250    75000  Inter227   \n",
       "2  2020-9-1-22       Format1          300        250    75000  Inter222   \n",
       "3  2020-9-3-20       Format1          300        250    75000  Inter228   \n",
       "4  2020-9-4-15       Format1          300        250    75000  Inter217   \n",
       "\n",
       "  Platform Device Type   Format  Available_Impressions  Matched_Queries  \\\n",
       "0    Video     Desktop  Display                   1806              325   \n",
       "1      App      Mobile    Video                   1780              285   \n",
       "2    Video     Desktop  Display                   2727              356   \n",
       "3    Video      Mobile    Video                   2430              497   \n",
       "4      Web     Desktop    Video                   1218              242   \n",
       "\n",
       "   Impressions  Clicks  Spend   Fee  Revenue     CTR  CPM  CPC  \n",
       "0          323       1    0.0  0.35      0.0  0.0031  0.0  0.0  \n",
       "1          285       1    0.0  0.35      0.0  0.0035  0.0  0.0  \n",
       "2          355       1    0.0  0.35      0.0  0.0028  0.0  0.0  \n",
       "3          495       1    0.0  0.35      0.0  0.0020  0.0  0.0  \n",
       "4          242       1    0.0  0.35      0.0  0.0041  0.0  0.0  "
      ]
     },
     "execution_count": 8,
     "metadata": {},
     "output_type": "execute_result"
    }
   ],
   "source": [
    "df.head()"
   ]
  },
  {
   "cell_type": "code",
   "execution_count": 9,
   "id": "9eca7467",
   "metadata": {},
   "outputs": [
    {
     "data": {
      "text/plain": [
       "(23066, 19)"
      ]
     },
     "execution_count": 9,
     "metadata": {},
     "output_type": "execute_result"
    }
   ],
   "source": [
    "df.shape"
   ]
  },
  {
   "cell_type": "code",
   "execution_count": 10,
   "id": "c6b01e5b",
   "metadata": {},
   "outputs": [
    {
     "name": "stdout",
     "output_type": "stream",
     "text": [
      "<class 'pandas.core.frame.DataFrame'>\n",
      "RangeIndex: 23066 entries, 0 to 23065\n",
      "Data columns (total 19 columns):\n",
      " #   Column                 Non-Null Count  Dtype  \n",
      "---  ------                 --------------  -----  \n",
      " 0   Timestamp              23066 non-null  object \n",
      " 1   InventoryType          23066 non-null  object \n",
      " 2   Ad - Length            23066 non-null  int64  \n",
      " 3   Ad- Width              23066 non-null  int64  \n",
      " 4   Ad Size                23066 non-null  int64  \n",
      " 5   Ad Type                23066 non-null  object \n",
      " 6   Platform               23066 non-null  object \n",
      " 7   Device Type            23066 non-null  object \n",
      " 8   Format                 23066 non-null  object \n",
      " 9   Available_Impressions  23066 non-null  int64  \n",
      " 10  Matched_Queries        23066 non-null  int64  \n",
      " 11  Impressions            23066 non-null  int64  \n",
      " 12  Clicks                 23066 non-null  int64  \n",
      " 13  Spend                  23066 non-null  float64\n",
      " 14  Fee                    23066 non-null  float64\n",
      " 15  Revenue                23066 non-null  float64\n",
      " 16  CTR                    18330 non-null  float64\n",
      " 17  CPM                    18330 non-null  float64\n",
      " 18  CPC                    18330 non-null  float64\n",
      "dtypes: float64(6), int64(7), object(6)\n",
      "memory usage: 3.3+ MB\n"
     ]
    }
   ],
   "source": [
    "df.info()"
   ]
  },
  {
   "cell_type": "code",
   "execution_count": 11,
   "id": "ffd9b892",
   "metadata": {},
   "outputs": [
    {
     "name": "stdout",
     "output_type": "stream",
     "text": [
      "Number of outliers in 'Ad - Length': 0\n",
      "Number of outliers in 'Ad- Width': 0\n",
      "Number of outliers in 'Ad Size': 8448\n",
      "Number of outliers in 'Available_Impressions': 2378\n",
      "Number of outliers in 'Matched_Queries': 3192\n",
      "Number of outliers in 'Impressions': 3269\n",
      "Number of outliers in 'Clicks': 1691\n",
      "Number of outliers in 'Spend': 2081\n",
      "Number of outliers in 'Fee': 3517\n",
      "Number of outliers in 'Revenue': 2325\n",
      "Number of outliers in 'CTR': 44\n",
      "Number of outliers in 'CPM': 34\n",
      "Number of outliers in 'CPC': 412\n"
     ]
    }
   ],
   "source": [
    "# List of numerical column names\n",
    "numerical_columns = ['Ad - Length', 'Ad- Width', 'Ad Size', 'Available_Impressions', 'Matched_Queries', \n",
    "                     'Impressions', 'Clicks', 'Spend', 'Fee', 'Revenue', 'CTR', 'CPM', 'CPC']\n",
    "\n",
    "# Iterate through the numerical columns and count outliers using the IQR method\n",
    "for column_name in numerical_columns:\n",
    "    # Calculate the quartiles\n",
    "    Q1 = df[column_name].quantile(0.25)\n",
    "    Q3 = df[column_name].quantile(0.75)\n",
    "\n",
    "    # Calculate the interquartile range (IQR)\n",
    "    IQR = Q3 - Q1\n",
    "\n",
    "    # Define lower and upper bounds for outliers\n",
    "    lower_bound = Q1 - 1.5 * IQR\n",
    "    upper_bound = Q3 + 1.5 * IQR\n",
    "\n",
    "    # Count the number of outliers\n",
    "    num_outliers = ((df[column_name] < lower_bound) | (df[column_name] > upper_bound)).sum()\n",
    "\n",
    "    # Print the column name and the count of outliers\n",
    "    print(f\"Number of outliers in '{column_name}': {num_outliers}\")\n"
   ]
  },
  {
   "cell_type": "code",
   "execution_count": 12,
   "id": "66c4b52f",
   "metadata": {},
   "outputs": [
    {
     "name": "stdout",
     "output_type": "stream",
     "text": [
      "Skewness for Ad - Length: 0.33\n",
      "Skewness for Ad- Width: 0.21\n",
      "Skewness for Ad Size: 1.21\n",
      "Skewness for Available_Impressions: 3.07\n",
      "Skewness for Matched_Queries: 2.98\n",
      "Skewness for Impressions: 2.97\n",
      "Skewness for Clicks: 2.94\n",
      "Skewness for Spend: 2.58\n",
      "Skewness for Fee: -2.30\n",
      "Skewness for Revenue: 2.79\n",
      "Skewness for CTR: 0.75\n",
      "Skewness for CPM: 0.75\n",
      "Skewness for CPC: 1.85\n"
     ]
    }
   ],
   "source": [
    "from scipy import stats\n",
    "\n",
    "# List of numerical column names\n",
    "numerical_columns = [\n",
    "    'Ad - Length', 'Ad- Width', 'Ad Size', 'Available_Impressions',\n",
    "    'Matched_Queries', 'Impressions', 'Clicks', 'Spend', 'Fee',\n",
    "    'Revenue', 'CTR', 'CPM', 'CPC'\n",
    "]\n",
    "\n",
    "# Iterate through numerical columns and calculate skewness\n",
    "for column_name in numerical_columns:\n",
    "    skewness = stats.skew(df[column_name].dropna())\n",
    "    print(f\"Skewness for {column_name}: {skewness:.2f}\")\n"
   ]
  },
  {
   "cell_type": "code",
   "execution_count": 13,
   "id": "7d6927c4",
   "metadata": {},
   "outputs": [
    {
     "name": "stdout",
     "output_type": "stream",
     "text": [
      "Numerical Columns:\n",
      "['Ad - Length', 'Ad- Width', 'Ad Size', 'Available_Impressions', 'Matched_Queries', 'Impressions', 'Clicks', 'Spend', 'Fee', 'Revenue', 'CTR', 'CPM', 'CPC']\n",
      "\n",
      "Number of Numerical Columns: 13\n",
      "\n",
      "Datetime Columns:\n",
      "[]\n",
      "\n",
      "Number of Datetime Columns: 0\n",
      "\n",
      "Categorical Columns:\n",
      "['Timestamp', 'InventoryType', 'Ad Type', 'Platform', 'Device Type', 'Format']\n",
      "\n",
      "Number of Categorical Columns: 6\n"
     ]
    }
   ],
   "source": [
    "# Identify numerical columns\n",
    "numerical_cols = df.select_dtypes(include=['number']).columns.tolist()\n",
    "\n",
    "# Identify datetime column\n",
    "datetime_col = df.select_dtypes(include=['datetime64[ns]']).columns.tolist()\n",
    "\n",
    "# Identify categorical columns (excluding numerical and datetime)\n",
    "categorical_cols = df.select_dtypes(exclude=['number', 'datetime64[ns]']).columns.tolist()\n",
    "\n",
    "# Count the number of numerical, datetime, and categorical columns\n",
    "num_numerical_cols = len(numerical_cols)\n",
    "num_datetime_cols = len(datetime_col)\n",
    "num_categorical_cols = len(categorical_cols)\n",
    "\n",
    "print(\"Numerical Columns:\")\n",
    "print(numerical_cols)\n",
    "print(\"\\nNumber of Numerical Columns:\", num_numerical_cols)\n",
    "\n",
    "print(\"\\nDatetime Columns:\")\n",
    "print(datetime_col)\n",
    "print(\"\\nNumber of Datetime Columns:\", num_datetime_cols)\n",
    "\n",
    "print(\"\\nCategorical Columns:\")\n",
    "print(categorical_cols)\n",
    "print(\"\\nNumber of Categorical Columns:\", num_categorical_cols)\n",
    "\n"
   ]
  },
  {
   "cell_type": "code",
   "execution_count": 14,
   "id": "fdffb989",
   "metadata": {},
   "outputs": [],
   "source": [
    "import pandas as pd\n",
    "\n",
    "# Assuming df is your DataFrame\n",
    "df['Timestamp'] = pd.to_datetime(df['Timestamp'], format='%Y-%m-%d-%H')\n"
   ]
  },
  {
   "cell_type": "code",
   "execution_count": 15,
   "id": "01772c12",
   "metadata": {},
   "outputs": [
    {
     "name": "stdout",
     "output_type": "stream",
     "text": [
      "Numerical Columns:\n",
      "['Ad - Length', 'Ad- Width', 'Ad Size', 'Available_Impressions', 'Matched_Queries', 'Impressions', 'Clicks', 'Spend', 'Fee', 'Revenue', 'CTR', 'CPM', 'CPC']\n",
      "\n",
      "Number of Numerical Columns: 13\n",
      "\n",
      "Datetime Columns:\n",
      "['Timestamp']\n",
      "\n",
      "Number of Datetime Columns: 1\n",
      "\n",
      "Categorical Columns:\n",
      "['InventoryType', 'Ad Type', 'Platform', 'Device Type', 'Format']\n",
      "\n",
      "Number of Categorical Columns: 5\n"
     ]
    }
   ],
   "source": [
    "# Identify numerical columns\n",
    "numerical_cols = df.select_dtypes(include=['number']).columns.tolist()\n",
    "\n",
    "# Identify datetime column\n",
    "datetime_col = df.select_dtypes(include=['datetime64[ns]']).columns.tolist()\n",
    "\n",
    "# Identify categorical columns (excluding numerical and datetime)\n",
    "categorical_cols = df.select_dtypes(exclude=['number', 'datetime64[ns]']).columns.tolist()\n",
    "\n",
    "# Count the number of numerical, datetime, and categorical columns\n",
    "num_numerical_cols = len(numerical_cols)\n",
    "num_datetime_cols = len(datetime_col)\n",
    "num_categorical_cols = len(categorical_cols)\n",
    "\n",
    "print(\"Numerical Columns:\")\n",
    "print(numerical_cols)\n",
    "print(\"\\nNumber of Numerical Columns:\", num_numerical_cols)\n",
    "\n",
    "print(\"\\nDatetime Columns:\")\n",
    "print(datetime_col)\n",
    "print(\"\\nNumber of Datetime Columns:\", num_datetime_cols)\n",
    "\n",
    "print(\"\\nCategorical Columns:\")\n",
    "print(categorical_cols)\n",
    "print(\"\\nNumber of Categorical Columns:\", num_categorical_cols)\n",
    "\n"
   ]
  },
  {
   "cell_type": "code",
   "execution_count": 16,
   "id": "e21a0561",
   "metadata": {},
   "outputs": [],
   "source": [
    "# Calculate the median for each column\n",
    "median_ctr = df['CTR'].median()\n",
    "median_cpm = df['CPM'].median()\n",
    "median_cpc = df['CPC'].median()\n",
    "\n",
    "# Impute missing values with the respective medians\n",
    "df['CTR'].fillna(median_ctr, inplace=True)\n",
    "df['CPM'].fillna(median_cpm, inplace=True)\n",
    "df['CPC'].fillna(median_cpc, inplace=True)\n"
   ]
  },
  {
   "cell_type": "code",
   "execution_count": 17,
   "id": "28494454",
   "metadata": {},
   "outputs": [
    {
     "name": "stdout",
     "output_type": "stream",
     "text": [
      "Null Records per Column:\n",
      "Timestamp                0\n",
      "InventoryType            0\n",
      "Ad - Length              0\n",
      "Ad- Width                0\n",
      "Ad Size                  0\n",
      "Ad Type                  0\n",
      "Platform                 0\n",
      "Device Type              0\n",
      "Format                   0\n",
      "Available_Impressions    0\n",
      "Matched_Queries          0\n",
      "Impressions              0\n",
      "Clicks                   0\n",
      "Spend                    0\n",
      "Fee                      0\n",
      "Revenue                  0\n",
      "CTR                      0\n",
      "CPM                      0\n",
      "CPC                      0\n",
      "dtype: int64\n"
     ]
    }
   ],
   "source": [
    "# Find and count null records in each column\n",
    "null_counts = df.isnull().sum()\n",
    "\n",
    "# Display the columns with their respective counts of null records\n",
    "print(\"Null Records per Column:\")\n",
    "print(null_counts)"
   ]
  },
  {
   "cell_type": "code",
   "execution_count": 18,
   "id": "2aef8012",
   "metadata": {},
   "outputs": [
    {
     "name": "stdout",
     "output_type": "stream",
     "text": [
      "<class 'pandas.core.frame.DataFrame'>\n",
      "RangeIndex: 23066 entries, 0 to 23065\n",
      "Data columns (total 19 columns):\n",
      " #   Column                 Non-Null Count  Dtype         \n",
      "---  ------                 --------------  -----         \n",
      " 0   Timestamp              23066 non-null  datetime64[ns]\n",
      " 1   InventoryType          23066 non-null  object        \n",
      " 2   Ad - Length            23066 non-null  int64         \n",
      " 3   Ad- Width              23066 non-null  int64         \n",
      " 4   Ad Size                23066 non-null  int64         \n",
      " 5   Ad Type                23066 non-null  object        \n",
      " 6   Platform               23066 non-null  object        \n",
      " 7   Device Type            23066 non-null  object        \n",
      " 8   Format                 23066 non-null  object        \n",
      " 9   Available_Impressions  23066 non-null  int64         \n",
      " 10  Matched_Queries        23066 non-null  int64         \n",
      " 11  Impressions            23066 non-null  int64         \n",
      " 12  Clicks                 23066 non-null  int64         \n",
      " 13  Spend                  23066 non-null  float64       \n",
      " 14  Fee                    23066 non-null  float64       \n",
      " 15  Revenue                23066 non-null  float64       \n",
      " 16  CTR                    23066 non-null  float64       \n",
      " 17  CPM                    23066 non-null  float64       \n",
      " 18  CPC                    23066 non-null  float64       \n",
      "dtypes: datetime64[ns](1), float64(6), int64(7), object(5)\n",
      "memory usage: 3.3+ MB\n"
     ]
    }
   ],
   "source": [
    "df.info()"
   ]
  },
  {
   "cell_type": "code",
   "execution_count": 19,
   "id": "5ff6ad02",
   "metadata": {},
   "outputs": [],
   "source": [
    "import pandas as pd\n",
    "\n",
    "# Assuming you have a DataFrame named 'df' and a list of numerical column names 'numerical_columns'\n",
    "# Define the list of numerical column names\n",
    "numerical_columns = ['Ad - Length', 'Ad- Width', 'Ad Size', 'Available_Impressions', 'Matched_Queries', \n",
    "                     'Impressions', 'Clicks', 'Spend', 'Fee', 'Revenue', 'CTR', 'CPM', 'CPC']\n",
    "\n",
    "# Function to treat outliers using IQR\n",
    "def treat_outliers_with_iqr(data, column_name):\n",
    "    Q1 = data[column_name].quantile(0.25)\n",
    "    Q3 = data[column_name].quantile(0.75)\n",
    "    IQR = Q3 - Q1\n",
    "    lower_bound = Q1 - 1.5 * IQR\n",
    "    upper_bound = Q3 + 1.5 * IQR\n",
    "    \n",
    "    # Replace outlier values with the lower or upper bound\n",
    "    data[column_name] = data[column_name].apply(lambda x: lower_bound if x < lower_bound else (upper_bound if x > upper_bound else x))\n",
    "    \n",
    "# Treat outliers in each numerical column\n",
    "for column_name in numerical_columns:\n",
    "    treat_outliers_with_iqr(df, column_name)\n",
    "\n",
    "# Now, your DataFrame 'df' has outliers treated using the IQR method\n"
   ]
  },
  {
   "cell_type": "code",
   "execution_count": 20,
   "id": "676c8961",
   "metadata": {},
   "outputs": [
    {
     "name": "stdout",
     "output_type": "stream",
     "text": [
      "Number of outliers in 'Ad - Length': 0\n",
      "Number of outliers in 'Ad- Width': 0\n",
      "Number of outliers in 'Ad Size': 0\n",
      "Number of outliers in 'Available_Impressions': 0\n",
      "Number of outliers in 'Matched_Queries': 0\n",
      "Number of outliers in 'Impressions': 0\n",
      "Number of outliers in 'Clicks': 0\n",
      "Number of outliers in 'Spend': 0\n",
      "Number of outliers in 'Fee': 0\n",
      "Number of outliers in 'Revenue': 0\n",
      "Number of outliers in 'CTR': 0\n",
      "Number of outliers in 'CPM': 0\n",
      "Number of outliers in 'CPC': 0\n"
     ]
    }
   ],
   "source": [
    "# List of numerical column names\n",
    "numerical_columns = ['Ad - Length', 'Ad- Width', 'Ad Size', 'Available_Impressions', 'Matched_Queries', \n",
    "                     'Impressions', 'Clicks', 'Spend', 'Fee', 'Revenue', 'CTR', 'CPM', 'CPC']\n",
    "\n",
    "# Iterate through the numerical columns and count outliers using the IQR method\n",
    "for column_name in numerical_columns:\n",
    "    # Calculate the quartiles\n",
    "    Q1 = df[column_name].quantile(0.25)\n",
    "    Q3 = df[column_name].quantile(0.75)\n",
    "\n",
    "    # Calculate the interquartile range (IQR)\n",
    "    IQR = Q3 - Q1\n",
    "\n",
    "    # Define lower and upper bounds for outliers\n",
    "    lower_bound = Q1 - 1.5 * IQR\n",
    "    upper_bound = Q3 + 1.5 * IQR\n",
    "\n",
    "    # Count the number of outliers\n",
    "    num_outliers = ((df[column_name] < lower_bound) | (df[column_name] > upper_bound)).sum()\n",
    "\n",
    "    # Print the column name and the count of outliers\n",
    "    print(f\"Number of outliers in '{column_name}': {num_outliers}\")\n"
   ]
  },
  {
   "cell_type": "code",
   "execution_count": 21,
   "id": "a9e33b9b",
   "metadata": {},
   "outputs": [],
   "source": [
    "# importing the StandardScaler Module\n",
    "from sklearn.preprocessing import StandardScaler"
   ]
  },
  {
   "cell_type": "code",
   "execution_count": 22,
   "id": "bf93ef85",
   "metadata": {},
   "outputs": [],
   "source": [
    "# Creating an object for the StandardScaler function\n",
    "X = StandardScaler()"
   ]
  },
  {
   "cell_type": "code",
   "execution_count": 23,
   "id": "ac72dc56",
   "metadata": {},
   "outputs": [],
   "source": [
    "from sklearn.preprocessing import StandardScaler\n",
    "import pandas as pd\n",
    "\n",
    "# Select the numerical columns from your DataFrame\n",
    "numerical_columns = df.select_dtypes(include=['number'])\n",
    "\n",
    "# Initialize the StandardScaler\n",
    "scaler = StandardScaler()\n",
    "\n",
    "# Fit and transform the scaler to your numerical DataFrame\n",
    "scaled_data = scaler.fit_transform(numerical_columns)\n",
    "\n",
    "# Create a new DataFrame with the scaled values rounded to two decimal places\n",
    "scaled_df = pd.DataFrame(scaled_data, columns=numerical_columns.columns).round(2)"
   ]
  },
  {
   "cell_type": "code",
   "execution_count": 24,
   "id": "6183b098",
   "metadata": {},
   "outputs": [
    {
     "data": {
      "text/html": [
       "<div>\n",
       "<style scoped>\n",
       "    .dataframe tbody tr th:only-of-type {\n",
       "        vertical-align: middle;\n",
       "    }\n",
       "\n",
       "    .dataframe tbody tr th {\n",
       "        vertical-align: top;\n",
       "    }\n",
       "\n",
       "    .dataframe thead th {\n",
       "        text-align: right;\n",
       "    }\n",
       "</style>\n",
       "<table border=\"1\" class=\"dataframe\">\n",
       "  <thead>\n",
       "    <tr style=\"text-align: right;\">\n",
       "      <th></th>\n",
       "      <th>Ad - Length</th>\n",
       "      <th>Ad- Width</th>\n",
       "      <th>Ad Size</th>\n",
       "      <th>Available_Impressions</th>\n",
       "      <th>Matched_Queries</th>\n",
       "      <th>Impressions</th>\n",
       "      <th>Clicks</th>\n",
       "      <th>Spend</th>\n",
       "      <th>Fee</th>\n",
       "      <th>Revenue</th>\n",
       "      <th>CTR</th>\n",
       "      <th>CPM</th>\n",
       "      <th>CPC</th>\n",
       "    </tr>\n",
       "  </thead>\n",
       "  <tbody>\n",
       "    <tr>\n",
       "      <th>0</th>\n",
       "      <td>-0.36</td>\n",
       "      <td>-0.43</td>\n",
       "      <td>-0.10</td>\n",
       "      <td>-0.76</td>\n",
       "      <td>-0.78</td>\n",
       "      <td>-0.77</td>\n",
       "      <td>-0.87</td>\n",
       "      <td>-0.89</td>\n",
       "      <td>0.54</td>\n",
       "      <td>-0.88</td>\n",
       "      <td>-1.09</td>\n",
       "      <td>-1.34</td>\n",
       "      <td>-1.08</td>\n",
       "    </tr>\n",
       "    <tr>\n",
       "      <th>1</th>\n",
       "      <td>-0.36</td>\n",
       "      <td>-0.43</td>\n",
       "      <td>-0.10</td>\n",
       "      <td>-0.76</td>\n",
       "      <td>-0.78</td>\n",
       "      <td>-0.77</td>\n",
       "      <td>-0.87</td>\n",
       "      <td>-0.89</td>\n",
       "      <td>0.54</td>\n",
       "      <td>-0.88</td>\n",
       "      <td>-1.08</td>\n",
       "      <td>-1.34</td>\n",
       "      <td>-1.08</td>\n",
       "    </tr>\n",
       "    <tr>\n",
       "      <th>2</th>\n",
       "      <td>-0.36</td>\n",
       "      <td>-0.43</td>\n",
       "      <td>-0.10</td>\n",
       "      <td>-0.75</td>\n",
       "      <td>-0.78</td>\n",
       "      <td>-0.77</td>\n",
       "      <td>-0.87</td>\n",
       "      <td>-0.89</td>\n",
       "      <td>0.54</td>\n",
       "      <td>-0.88</td>\n",
       "      <td>-1.09</td>\n",
       "      <td>-1.34</td>\n",
       "      <td>-1.08</td>\n",
       "    </tr>\n",
       "    <tr>\n",
       "      <th>3</th>\n",
       "      <td>-0.36</td>\n",
       "      <td>-0.43</td>\n",
       "      <td>-0.10</td>\n",
       "      <td>-0.76</td>\n",
       "      <td>-0.78</td>\n",
       "      <td>-0.77</td>\n",
       "      <td>-0.87</td>\n",
       "      <td>-0.89</td>\n",
       "      <td>0.54</td>\n",
       "      <td>-0.88</td>\n",
       "      <td>-1.11</td>\n",
       "      <td>-1.34</td>\n",
       "      <td>-1.08</td>\n",
       "    </tr>\n",
       "    <tr>\n",
       "      <th>4</th>\n",
       "      <td>-0.36</td>\n",
       "      <td>-0.43</td>\n",
       "      <td>-0.10</td>\n",
       "      <td>-0.76</td>\n",
       "      <td>-0.78</td>\n",
       "      <td>-0.77</td>\n",
       "      <td>-0.87</td>\n",
       "      <td>-0.89</td>\n",
       "      <td>0.54</td>\n",
       "      <td>-0.88</td>\n",
       "      <td>-1.07</td>\n",
       "      <td>-1.34</td>\n",
       "      <td>-1.08</td>\n",
       "    </tr>\n",
       "    <tr>\n",
       "      <th>...</th>\n",
       "      <td>...</td>\n",
       "      <td>...</td>\n",
       "      <td>...</td>\n",
       "      <td>...</td>\n",
       "      <td>...</td>\n",
       "      <td>...</td>\n",
       "      <td>...</td>\n",
       "      <td>...</td>\n",
       "      <td>...</td>\n",
       "      <td>...</td>\n",
       "      <td>...</td>\n",
       "      <td>...</td>\n",
       "      <td>...</td>\n",
       "    </tr>\n",
       "    <tr>\n",
       "      <th>23061</th>\n",
       "      <td>1.43</td>\n",
       "      <td>-0.19</td>\n",
       "      <td>1.65</td>\n",
       "      <td>-0.76</td>\n",
       "      <td>-0.78</td>\n",
       "      <td>-0.77</td>\n",
       "      <td>-0.87</td>\n",
       "      <td>-0.89</td>\n",
       "      <td>0.54</td>\n",
       "      <td>-0.88</td>\n",
       "      <td>0.11</td>\n",
       "      <td>0.00</td>\n",
       "      <td>-0.51</td>\n",
       "    </tr>\n",
       "    <tr>\n",
       "      <th>23062</th>\n",
       "      <td>1.43</td>\n",
       "      <td>-0.19</td>\n",
       "      <td>1.65</td>\n",
       "      <td>-0.76</td>\n",
       "      <td>-0.78</td>\n",
       "      <td>-0.77</td>\n",
       "      <td>-0.87</td>\n",
       "      <td>-0.89</td>\n",
       "      <td>0.54</td>\n",
       "      <td>-0.88</td>\n",
       "      <td>0.11</td>\n",
       "      <td>0.00</td>\n",
       "      <td>-0.51</td>\n",
       "    </tr>\n",
       "    <tr>\n",
       "      <th>23063</th>\n",
       "      <td>1.43</td>\n",
       "      <td>-0.19</td>\n",
       "      <td>1.65</td>\n",
       "      <td>-0.76</td>\n",
       "      <td>-0.78</td>\n",
       "      <td>-0.77</td>\n",
       "      <td>-0.87</td>\n",
       "      <td>-0.89</td>\n",
       "      <td>0.54</td>\n",
       "      <td>-0.88</td>\n",
       "      <td>0.11</td>\n",
       "      <td>0.00</td>\n",
       "      <td>-0.51</td>\n",
       "    </tr>\n",
       "    <tr>\n",
       "      <th>23064</th>\n",
       "      <td>-1.13</td>\n",
       "      <td>1.29</td>\n",
       "      <td>-0.30</td>\n",
       "      <td>-0.76</td>\n",
       "      <td>-0.78</td>\n",
       "      <td>-0.77</td>\n",
       "      <td>-0.87</td>\n",
       "      <td>-0.89</td>\n",
       "      <td>0.54</td>\n",
       "      <td>-0.88</td>\n",
       "      <td>0.11</td>\n",
       "      <td>0.00</td>\n",
       "      <td>-0.51</td>\n",
       "    </tr>\n",
       "    <tr>\n",
       "      <th>23065</th>\n",
       "      <td>1.43</td>\n",
       "      <td>-0.19</td>\n",
       "      <td>1.65</td>\n",
       "      <td>-0.76</td>\n",
       "      <td>-0.78</td>\n",
       "      <td>-0.77</td>\n",
       "      <td>-0.87</td>\n",
       "      <td>-0.89</td>\n",
       "      <td>0.54</td>\n",
       "      <td>-0.88</td>\n",
       "      <td>0.11</td>\n",
       "      <td>0.00</td>\n",
       "      <td>-0.51</td>\n",
       "    </tr>\n",
       "  </tbody>\n",
       "</table>\n",
       "<p>23066 rows × 13 columns</p>\n",
       "</div>"
      ],
      "text/plain": [
       "       Ad - Length  Ad- Width  Ad Size  Available_Impressions  \\\n",
       "0            -0.36      -0.43    -0.10                  -0.76   \n",
       "1            -0.36      -0.43    -0.10                  -0.76   \n",
       "2            -0.36      -0.43    -0.10                  -0.75   \n",
       "3            -0.36      -0.43    -0.10                  -0.76   \n",
       "4            -0.36      -0.43    -0.10                  -0.76   \n",
       "...            ...        ...      ...                    ...   \n",
       "23061         1.43      -0.19     1.65                  -0.76   \n",
       "23062         1.43      -0.19     1.65                  -0.76   \n",
       "23063         1.43      -0.19     1.65                  -0.76   \n",
       "23064        -1.13       1.29    -0.30                  -0.76   \n",
       "23065         1.43      -0.19     1.65                  -0.76   \n",
       "\n",
       "       Matched_Queries  Impressions  Clicks  Spend   Fee  Revenue   CTR   CPM  \\\n",
       "0                -0.78        -0.77   -0.87  -0.89  0.54    -0.88 -1.09 -1.34   \n",
       "1                -0.78        -0.77   -0.87  -0.89  0.54    -0.88 -1.08 -1.34   \n",
       "2                -0.78        -0.77   -0.87  -0.89  0.54    -0.88 -1.09 -1.34   \n",
       "3                -0.78        -0.77   -0.87  -0.89  0.54    -0.88 -1.11 -1.34   \n",
       "4                -0.78        -0.77   -0.87  -0.89  0.54    -0.88 -1.07 -1.34   \n",
       "...                ...          ...     ...    ...   ...      ...   ...   ...   \n",
       "23061            -0.78        -0.77   -0.87  -0.89  0.54    -0.88  0.11  0.00   \n",
       "23062            -0.78        -0.77   -0.87  -0.89  0.54    -0.88  0.11  0.00   \n",
       "23063            -0.78        -0.77   -0.87  -0.89  0.54    -0.88  0.11  0.00   \n",
       "23064            -0.78        -0.77   -0.87  -0.89  0.54    -0.88  0.11  0.00   \n",
       "23065            -0.78        -0.77   -0.87  -0.89  0.54    -0.88  0.11  0.00   \n",
       "\n",
       "        CPC  \n",
       "0     -1.08  \n",
       "1     -1.08  \n",
       "2     -1.08  \n",
       "3     -1.08  \n",
       "4     -1.08  \n",
       "...     ...  \n",
       "23061 -0.51  \n",
       "23062 -0.51  \n",
       "23063 -0.51  \n",
       "23064 -0.51  \n",
       "23065 -0.51  \n",
       "\n",
       "[23066 rows x 13 columns]"
      ]
     },
     "execution_count": 24,
     "metadata": {},
     "output_type": "execute_result"
    }
   ],
   "source": [
    "scaled_df"
   ]
  },
  {
   "cell_type": "code",
   "execution_count": 25,
   "id": "8ec8d280",
   "metadata": {},
   "outputs": [],
   "source": [
    "import pandas as pd\n",
    "from sklearn.cluster import KMeans \n",
    "import matplotlib.pyplot as plt\n",
    "import seaborn as sns\n",
    "import warnings\n",
    "warnings.filterwarnings('ignore')\n",
    "\n",
    "# Create K Means cluster and store the result in the object k_means\n",
    "k_means = KMeans(n_clusters = 2,random_state=1)"
   ]
  },
  {
   "cell_type": "code",
   "execution_count": 26,
   "id": "2b5ec37c",
   "metadata": {},
   "outputs": [
    {
     "data": {
      "text/html": [
       "<style>#sk-container-id-1 {color: black;background-color: white;}#sk-container-id-1 pre{padding: 0;}#sk-container-id-1 div.sk-toggleable {background-color: white;}#sk-container-id-1 label.sk-toggleable__label {cursor: pointer;display: block;width: 100%;margin-bottom: 0;padding: 0.3em;box-sizing: border-box;text-align: center;}#sk-container-id-1 label.sk-toggleable__label-arrow:before {content: \"▸\";float: left;margin-right: 0.25em;color: #696969;}#sk-container-id-1 label.sk-toggleable__label-arrow:hover:before {color: black;}#sk-container-id-1 div.sk-estimator:hover label.sk-toggleable__label-arrow:before {color: black;}#sk-container-id-1 div.sk-toggleable__content {max-height: 0;max-width: 0;overflow: hidden;text-align: left;background-color: #f0f8ff;}#sk-container-id-1 div.sk-toggleable__content pre {margin: 0.2em;color: black;border-radius: 0.25em;background-color: #f0f8ff;}#sk-container-id-1 input.sk-toggleable__control:checked~div.sk-toggleable__content {max-height: 200px;max-width: 100%;overflow: auto;}#sk-container-id-1 input.sk-toggleable__control:checked~label.sk-toggleable__label-arrow:before {content: \"▾\";}#sk-container-id-1 div.sk-estimator input.sk-toggleable__control:checked~label.sk-toggleable__label {background-color: #d4ebff;}#sk-container-id-1 div.sk-label input.sk-toggleable__control:checked~label.sk-toggleable__label {background-color: #d4ebff;}#sk-container-id-1 input.sk-hidden--visually {border: 0;clip: rect(1px 1px 1px 1px);clip: rect(1px, 1px, 1px, 1px);height: 1px;margin: -1px;overflow: hidden;padding: 0;position: absolute;width: 1px;}#sk-container-id-1 div.sk-estimator {font-family: monospace;background-color: #f0f8ff;border: 1px dotted black;border-radius: 0.25em;box-sizing: border-box;margin-bottom: 0.5em;}#sk-container-id-1 div.sk-estimator:hover {background-color: #d4ebff;}#sk-container-id-1 div.sk-parallel-item::after {content: \"\";width: 100%;border-bottom: 1px solid gray;flex-grow: 1;}#sk-container-id-1 div.sk-label:hover label.sk-toggleable__label {background-color: #d4ebff;}#sk-container-id-1 div.sk-serial::before {content: \"\";position: absolute;border-left: 1px solid gray;box-sizing: border-box;top: 0;bottom: 0;left: 50%;z-index: 0;}#sk-container-id-1 div.sk-serial {display: flex;flex-direction: column;align-items: center;background-color: white;padding-right: 0.2em;padding-left: 0.2em;position: relative;}#sk-container-id-1 div.sk-item {position: relative;z-index: 1;}#sk-container-id-1 div.sk-parallel {display: flex;align-items: stretch;justify-content: center;background-color: white;position: relative;}#sk-container-id-1 div.sk-item::before, #sk-container-id-1 div.sk-parallel-item::before {content: \"\";position: absolute;border-left: 1px solid gray;box-sizing: border-box;top: 0;bottom: 0;left: 50%;z-index: -1;}#sk-container-id-1 div.sk-parallel-item {display: flex;flex-direction: column;z-index: 1;position: relative;background-color: white;}#sk-container-id-1 div.sk-parallel-item:first-child::after {align-self: flex-end;width: 50%;}#sk-container-id-1 div.sk-parallel-item:last-child::after {align-self: flex-start;width: 50%;}#sk-container-id-1 div.sk-parallel-item:only-child::after {width: 0;}#sk-container-id-1 div.sk-dashed-wrapped {border: 1px dashed gray;margin: 0 0.4em 0.5em 0.4em;box-sizing: border-box;padding-bottom: 0.4em;background-color: white;}#sk-container-id-1 div.sk-label label {font-family: monospace;font-weight: bold;display: inline-block;line-height: 1.2em;}#sk-container-id-1 div.sk-label-container {text-align: center;}#sk-container-id-1 div.sk-container {/* jupyter's `normalize.less` sets `[hidden] { display: none; }` but bootstrap.min.css set `[hidden] { display: none !important; }` so we also need the `!important` here to be able to override the default hidden behavior on the sphinx rendered scikit-learn.org. See: https://github.com/scikit-learn/scikit-learn/issues/21755 */display: inline-block !important;position: relative;}#sk-container-id-1 div.sk-text-repr-fallback {display: none;}</style><div id=\"sk-container-id-1\" class=\"sk-top-container\"><div class=\"sk-text-repr-fallback\"><pre>KMeans(n_clusters=2, random_state=1)</pre><b>In a Jupyter environment, please rerun this cell to show the HTML representation or trust the notebook. <br />On GitHub, the HTML representation is unable to render, please try loading this page with nbviewer.org.</b></div><div class=\"sk-container\" hidden><div class=\"sk-item\"><div class=\"sk-estimator sk-toggleable\"><input class=\"sk-toggleable__control sk-hidden--visually\" id=\"sk-estimator-id-1\" type=\"checkbox\" checked><label for=\"sk-estimator-id-1\" class=\"sk-toggleable__label sk-toggleable__label-arrow\">KMeans</label><div class=\"sk-toggleable__content\"><pre>KMeans(n_clusters=2, random_state=1)</pre></div></div></div></div></div>"
      ],
      "text/plain": [
       "KMeans(n_clusters=2, random_state=1)"
      ]
     },
     "execution_count": 26,
     "metadata": {},
     "output_type": "execute_result"
    }
   ],
   "source": [
    "# Fit K means on the scaled_df\n",
    "k_means.fit(scaled_df)"
   ]
  },
  {
   "cell_type": "code",
   "execution_count": 27,
   "id": "97861f66",
   "metadata": {},
   "outputs": [
    {
     "data": {
      "text/plain": [
       "array([1, 1, 1, ..., 1, 1, 1])"
      ]
     },
     "execution_count": 27,
     "metadata": {},
     "output_type": "execute_result"
    }
   ],
   "source": [
    "# Get the labels\n",
    "k_means.labels_"
   ]
  },
  {
   "cell_type": "code",
   "execution_count": 28,
   "id": "e706b2b1",
   "metadata": {},
   "outputs": [
    {
     "data": {
      "text/plain": [
       "187995.72"
      ]
     },
     "execution_count": 28,
     "metadata": {},
     "output_type": "execute_result"
    }
   ],
   "source": [
    "round(k_means.inertia_,2)"
   ]
  },
  {
   "cell_type": "code",
   "execution_count": 29,
   "id": "9fe1a67f",
   "metadata": {},
   "outputs": [
    {
     "data": {
      "text/plain": [
       "299736.35"
      ]
     },
     "execution_count": 29,
     "metadata": {},
     "output_type": "execute_result"
    }
   ],
   "source": [
    "k_means = KMeans(n_clusters = 1,random_state=1)\n",
    "k_means.fit(scaled_df)\n",
    "round(k_means.inertia_,2)"
   ]
  },
  {
   "cell_type": "code",
   "execution_count": 30,
   "id": "42248620",
   "metadata": {},
   "outputs": [
    {
     "data": {
      "text/plain": [
       "137392.97"
      ]
     },
     "execution_count": 30,
     "metadata": {},
     "output_type": "execute_result"
    }
   ],
   "source": [
    "k_means = KMeans(n_clusters = 3,random_state=1)\n",
    "k_means.fit(scaled_df)\n",
    "round(k_means.inertia_,2)"
   ]
  },
  {
   "cell_type": "code",
   "execution_count": 31,
   "id": "5236dae1",
   "metadata": {},
   "outputs": [
    {
     "data": {
      "text/plain": [
       "101342.1"
      ]
     },
     "execution_count": 31,
     "metadata": {},
     "output_type": "execute_result"
    }
   ],
   "source": [
    "k_means = KMeans(n_clusters = 4,random_state=1)\n",
    "k_means.fit(scaled_df)\n",
    "round(k_means.inertia_,2)"
   ]
  },
  {
   "cell_type": "code",
   "execution_count": 32,
   "id": "3103bb58",
   "metadata": {},
   "outputs": [
    {
     "data": {
      "text/plain": [
       "68237.25"
      ]
     },
     "execution_count": 32,
     "metadata": {},
     "output_type": "execute_result"
    }
   ],
   "source": [
    "k_means = KMeans(n_clusters = 5,random_state=1)\n",
    "k_means.fit(scaled_df)\n",
    "round(k_means.inertia_,2)"
   ]
  },
  {
   "cell_type": "code",
   "execution_count": 34,
   "id": "e2d3bebf",
   "metadata": {},
   "outputs": [
    {
     "data": {
      "text/plain": [
       "58665.03"
      ]
     },
     "execution_count": 34,
     "metadata": {},
     "output_type": "execute_result"
    }
   ],
   "source": [
    "k_means = KMeans(n_clusters = 6,random_state=1)\n",
    "k_means.fit(scaled_df)\n",
    "round(k_means.inertia_,2)"
   ]
  },
  {
   "cell_type": "code",
   "execution_count": 35,
   "id": "a65b13a4",
   "metadata": {},
   "outputs": [
    {
     "data": {
      "text/plain": [
       "51343.67"
      ]
     },
     "execution_count": 35,
     "metadata": {},
     "output_type": "execute_result"
    }
   ],
   "source": [
    "k_means = KMeans(n_clusters = 7,random_state=1)\n",
    "k_means.fit(scaled_df)\n",
    "round(k_means.inertia_,2)"
   ]
  },
  {
   "cell_type": "code",
   "execution_count": 37,
   "id": "4f42d8d6",
   "metadata": {},
   "outputs": [
    {
     "data": {
      "text/plain": [
       "45667.84"
      ]
     },
     "execution_count": 37,
     "metadata": {},
     "output_type": "execute_result"
    }
   ],
   "source": [
    "k_means = KMeans(n_clusters = 8,random_state=1)\n",
    "k_means.fit(scaled_df)\n",
    "round(k_means.inertia_,2)"
   ]
  },
  {
   "cell_type": "code",
   "execution_count": 39,
   "id": "4d05b708",
   "metadata": {},
   "outputs": [
    {
     "data": {
      "text/plain": [
       "41304.77"
      ]
     },
     "execution_count": 39,
     "metadata": {},
     "output_type": "execute_result"
    }
   ],
   "source": [
    "k_means = KMeans(n_clusters = 9,random_state=1)\n",
    "k_means.fit(scaled_df)\n",
    "round(k_means.inertia_,2)"
   ]
  },
  {
   "cell_type": "code",
   "execution_count": 40,
   "id": "fd018061",
   "metadata": {},
   "outputs": [
    {
     "data": {
      "text/plain": [
       "38700.17"
      ]
     },
     "execution_count": 40,
     "metadata": {},
     "output_type": "execute_result"
    }
   ],
   "source": [
    "k_means = KMeans(n_clusters = 10,random_state=1)\n",
    "k_means.fit(scaled_df)\n",
    "round(k_means.inertia_,2)"
   ]
  },
  {
   "cell_type": "code",
   "execution_count": 41,
   "id": "46a3ff9c",
   "metadata": {},
   "outputs": [],
   "source": [
    "wss =[] "
   ]
  },
  {
   "cell_type": "code",
   "execution_count": 42,
   "id": "7f58affb",
   "metadata": {},
   "outputs": [],
   "source": [
    "for i in range(1,11):\n",
    "    KM = KMeans(n_clusters=i,random_state=1)\n",
    "    KM.fit(scaled_df)\n",
    "    wss.append(round(KM.inertia_,2))"
   ]
  },
  {
   "cell_type": "code",
   "execution_count": 43,
   "id": "d12bbc66",
   "metadata": {},
   "outputs": [
    {
     "data": {
      "text/plain": [
       "[299736.35,\n",
       " 187995.72,\n",
       " 137392.97,\n",
       " 101342.1,\n",
       " 68237.25,\n",
       " 58665.03,\n",
       " 51343.67,\n",
       " 45667.84,\n",
       " 41304.77,\n",
       " 38700.17]"
      ]
     },
     "execution_count": 43,
     "metadata": {},
     "output_type": "execute_result"
    }
   ],
   "source": [
    "wss"
   ]
  },
  {
   "cell_type": "code",
   "execution_count": 44,
   "id": "8bf43577",
   "metadata": {},
   "outputs": [],
   "source": [
    "a=[1,2,3,4,5,6,7,8,9,10]"
   ]
  },
  {
   "cell_type": "code",
   "execution_count": 48,
   "id": "236e4777",
   "metadata": {},
   "outputs": [
    {
     "data": {
      "image/png": "[encoded data removed]",
      "text/plain": [
       "<Figure size 640x480 with 1 Axes>"
      ]
     },
     "metadata": {},
     "output_type": "display_data"
    }
   ],
   "source": [
    "import seaborn as sns\n",
    "import matplotlib.pyplot as plt\n",
    "\n",
    "# Assuming 'a' and 'wss' are your data arrays or Series\n",
    "sns.pointplot(x=a, y=wss)\n",
    "\n",
    "# Optionally, you can add labels to the axes\n",
    "plt.xlabel(\"X Axis Label\")\n",
    "plt.ylabel(\"Y Axis Label\")\n",
    "\n",
    "# Display the plot\n",
    "plt.show()\n"
   ]
  },
  {
   "cell_type": "code",
   "execution_count": 57,
   "id": "5bc87d9e",
   "metadata": {},
   "outputs": [],
   "source": [
    "k_means = KMeans(n_clusters = 4,random_state=1)\n",
    "k_means.fit(scaled_df)\n",
    "labels = k_means.labels_"
   ]
  },
  {
   "cell_type": "code",
   "execution_count": 58,
   "id": "b82880f3",
   "metadata": {},
   "outputs": [
    {
     "data": {
      "text/plain": [
       "0.4164486027813257"
      ]
     },
     "execution_count": 58,
     "metadata": {},
     "output_type": "execute_result"
    }
   ],
   "source": [
    "# Calculating silhouette_score\n",
    "silhouette_score(scaled_df,labels,random_state=1)"
   ]
  },
  {
   "cell_type": "code",
   "execution_count": 49,
   "id": "b57f9bdc",
   "metadata": {},
   "outputs": [],
   "source": [
    "k_means = KMeans(n_clusters = 5,random_state=1)\n",
    "k_means.fit(scaled_df)\n",
    "labels = k_means.labels_"
   ]
  },
  {
   "cell_type": "code",
   "execution_count": 50,
   "id": "a5f31c46",
   "metadata": {},
   "outputs": [],
   "source": [
    "from sklearn.metrics import silhouette_samples, silhouette_score"
   ]
  },
  {
   "cell_type": "code",
   "execution_count": 51,
   "id": "0b5e16f2",
   "metadata": {},
   "outputs": [
    {
     "data": {
      "text/plain": [
       "0.4958236720012455"
      ]
     },
     "execution_count": 51,
     "metadata": {},
     "output_type": "execute_result"
    }
   ],
   "source": [
    "# Calculating silhouette_score\n",
    "silhouette_score(scaled_df,labels,random_state=1)"
   ]
  },
  {
   "cell_type": "code",
   "execution_count": 54,
   "id": "8d50e17d",
   "metadata": {},
   "outputs": [],
   "source": [
    "k_means = KMeans(n_clusters = 6,random_state=1)\n",
    "k_means.fit(scaled_df)\n",
    "labels = k_means.labels_"
   ]
  },
  {
   "cell_type": "code",
   "execution_count": 55,
   "id": "737bc740",
   "metadata": {},
   "outputs": [],
   "source": [
    "#from sklearn.metrics import silhouette_samples, silhouette_score"
   ]
  },
  {
   "cell_type": "code",
   "execution_count": 56,
   "id": "cb1e50dd",
   "metadata": {},
   "outputs": [
    {
     "data": {
      "text/plain": [
       "0.4897070435908224"
      ]
     },
     "execution_count": 56,
     "metadata": {},
     "output_type": "execute_result"
    }
   ],
   "source": [
    "silhouette_score(scaled_df,labels,random_state=1)"
   ]
  },
  {
   "cell_type": "code",
   "execution_count": 59,
   "id": "dc8be832",
   "metadata": {},
   "outputs": [],
   "source": [
    "#from sklearn.metrics import silhouette_samples, silhouette_score"
   ]
  },
  {
   "cell_type": "code",
   "execution_count": 60,
   "id": "28da8625",
   "metadata": {},
   "outputs": [
    {
     "data": {
      "text/plain": [
       "0.4164486027813257"
      ]
     },
     "execution_count": 60,
     "metadata": {},
     "output_type": "execute_result"
    }
   ],
   "source": [
    "silhouette_score(scaled_df,labels,random_state=1)"
   ]
  },
  {
   "cell_type": "code",
   "execution_count": 61,
   "id": "04b1c766",
   "metadata": {},
   "outputs": [],
   "source": [
    "k_means = KMeans(n_clusters = 5)\n",
    "k_means.fit(scaled_df)\n",
    "labels = k_means.labels_"
   ]
  },
  {
   "cell_type": "code",
   "execution_count": 63,
   "id": "02a0362e",
   "metadata": {},
   "outputs": [
    {
     "data": {
      "text/html": [
       "<div>\n",
       "<style scoped>\n",
       "    .dataframe tbody tr th:only-of-type {\n",
       "        vertical-align: middle;\n",
       "    }\n",
       "\n",
       "    .dataframe tbody tr th {\n",
       "        vertical-align: top;\n",
       "    }\n",
       "\n",
       "    .dataframe thead th {\n",
       "        text-align: right;\n",
       "    }\n",
       "</style>\n",
       "<table border=\"1\" class=\"dataframe\">\n",
       "  <thead>\n",
       "    <tr style=\"text-align: right;\">\n",
       "      <th></th>\n",
       "      <th>Timestamp</th>\n",
       "      <th>InventoryType</th>\n",
       "      <th>Ad - Length</th>\n",
       "      <th>Ad- Width</th>\n",
       "      <th>Ad Size</th>\n",
       "      <th>Ad Type</th>\n",
       "      <th>Platform</th>\n",
       "      <th>Device Type</th>\n",
       "      <th>Format</th>\n",
       "      <th>Available_Impressions</th>\n",
       "      <th>Matched_Queries</th>\n",
       "      <th>Impressions</th>\n",
       "      <th>Clicks</th>\n",
       "      <th>Spend</th>\n",
       "      <th>Fee</th>\n",
       "      <th>Revenue</th>\n",
       "      <th>CTR</th>\n",
       "      <th>CPM</th>\n",
       "      <th>CPC</th>\n",
       "      <th>Clus_kmeans</th>\n",
       "    </tr>\n",
       "  </thead>\n",
       "  <tbody>\n",
       "    <tr>\n",
       "      <th>0</th>\n",
       "      <td>2020-09-02 17:00:00</td>\n",
       "      <td>Format1</td>\n",
       "      <td>300</td>\n",
       "      <td>250</td>\n",
       "      <td>75000.0</td>\n",
       "      <td>Inter222</td>\n",
       "      <td>Video</td>\n",
       "      <td>Desktop</td>\n",
       "      <td>Display</td>\n",
       "      <td>1806.0</td>\n",
       "      <td>325.0</td>\n",
       "      <td>323.0</td>\n",
       "      <td>1.0</td>\n",
       "      <td>0.0</td>\n",
       "      <td>0.35</td>\n",
       "      <td>0.0</td>\n",
       "      <td>0.0031</td>\n",
       "      <td>0.0</td>\n",
       "      <td>0.0</td>\n",
       "      <td>0</td>\n",
       "    </tr>\n",
       "    <tr>\n",
       "      <th>1</th>\n",
       "      <td>2020-09-02 10:00:00</td>\n",
       "      <td>Format1</td>\n",
       "      <td>300</td>\n",
       "      <td>250</td>\n",
       "      <td>75000.0</td>\n",
       "      <td>Inter227</td>\n",
       "      <td>App</td>\n",
       "      <td>Mobile</td>\n",
       "      <td>Video</td>\n",
       "      <td>1780.0</td>\n",
       "      <td>285.0</td>\n",
       "      <td>285.0</td>\n",
       "      <td>1.0</td>\n",
       "      <td>0.0</td>\n",
       "      <td>0.35</td>\n",
       "      <td>0.0</td>\n",
       "      <td>0.0035</td>\n",
       "      <td>0.0</td>\n",
       "      <td>0.0</td>\n",
       "      <td>0</td>\n",
       "    </tr>\n",
       "    <tr>\n",
       "      <th>2</th>\n",
       "      <td>2020-09-01 22:00:00</td>\n",
       "      <td>Format1</td>\n",
       "      <td>300</td>\n",
       "      <td>250</td>\n",
       "      <td>75000.0</td>\n",
       "      <td>Inter222</td>\n",
       "      <td>Video</td>\n",
       "      <td>Desktop</td>\n",
       "      <td>Display</td>\n",
       "      <td>2727.0</td>\n",
       "      <td>356.0</td>\n",
       "      <td>355.0</td>\n",
       "      <td>1.0</td>\n",
       "      <td>0.0</td>\n",
       "      <td>0.35</td>\n",
       "      <td>0.0</td>\n",
       "      <td>0.0028</td>\n",
       "      <td>0.0</td>\n",
       "      <td>0.0</td>\n",
       "      <td>0</td>\n",
       "    </tr>\n",
       "    <tr>\n",
       "      <th>3</th>\n",
       "      <td>2020-09-03 20:00:00</td>\n",
       "      <td>Format1</td>\n",
       "      <td>300</td>\n",
       "      <td>250</td>\n",
       "      <td>75000.0</td>\n",
       "      <td>Inter228</td>\n",
       "      <td>Video</td>\n",
       "      <td>Mobile</td>\n",
       "      <td>Video</td>\n",
       "      <td>2430.0</td>\n",
       "      <td>497.0</td>\n",
       "      <td>495.0</td>\n",
       "      <td>1.0</td>\n",
       "      <td>0.0</td>\n",
       "      <td>0.35</td>\n",
       "      <td>0.0</td>\n",
       "      <td>0.0020</td>\n",
       "      <td>0.0</td>\n",
       "      <td>0.0</td>\n",
       "      <td>0</td>\n",
       "    </tr>\n",
       "    <tr>\n",
       "      <th>4</th>\n",
       "      <td>2020-09-04 15:00:00</td>\n",
       "      <td>Format1</td>\n",
       "      <td>300</td>\n",
       "      <td>250</td>\n",
       "      <td>75000.0</td>\n",
       "      <td>Inter217</td>\n",
       "      <td>Web</td>\n",
       "      <td>Desktop</td>\n",
       "      <td>Video</td>\n",
       "      <td>1218.0</td>\n",
       "      <td>242.0</td>\n",
       "      <td>242.0</td>\n",
       "      <td>1.0</td>\n",
       "      <td>0.0</td>\n",
       "      <td>0.35</td>\n",
       "      <td>0.0</td>\n",
       "      <td>0.0041</td>\n",
       "      <td>0.0</td>\n",
       "      <td>0.0</td>\n",
       "      <td>0</td>\n",
       "    </tr>\n",
       "  </tbody>\n",
       "</table>\n",
       "</div>"
      ],
      "text/plain": [
       "            Timestamp InventoryType  Ad - Length  Ad- Width  Ad Size  \\\n",
       "0 2020-09-02 17:00:00       Format1          300        250  75000.0   \n",
       "1 2020-09-02 10:00:00       Format1          300        250  75000.0   \n",
       "2 2020-09-01 22:00:00       Format1          300        250  75000.0   \n",
       "3 2020-09-03 20:00:00       Format1          300        250  75000.0   \n",
       "4 2020-09-04 15:00:00       Format1          300        250  75000.0   \n",
       "\n",
       "    Ad Type Platform Device Type   Format  Available_Impressions  \\\n",
       "0  Inter222    Video     Desktop  Display                 1806.0   \n",
       "1  Inter227      App      Mobile    Video                 1780.0   \n",
       "2  Inter222    Video     Desktop  Display                 2727.0   \n",
       "3  Inter228    Video      Mobile    Video                 2430.0   \n",
       "4  Inter217      Web     Desktop    Video                 1218.0   \n",
       "\n",
       "   Matched_Queries  Impressions  Clicks  Spend   Fee  Revenue     CTR  CPM  \\\n",
       "0            325.0        323.0     1.0    0.0  0.35      0.0  0.0031  0.0   \n",
       "1            285.0        285.0     1.0    0.0  0.35      0.0  0.0035  0.0   \n",
       "2            356.0        355.0     1.0    0.0  0.35      0.0  0.0028  0.0   \n",
       "3            497.0        495.0     1.0    0.0  0.35      0.0  0.0020  0.0   \n",
       "4            242.0        242.0     1.0    0.0  0.35      0.0  0.0041  0.0   \n",
       "\n",
       "   CPC  Clus_kmeans  \n",
       "0  0.0            0  \n",
       "1  0.0            0  \n",
       "2  0.0            0  \n",
       "3  0.0            0  \n",
       "4  0.0            0  "
      ]
     },
     "execution_count": 63,
     "metadata": {},
     "output_type": "execute_result"
    }
   ],
   "source": [
    "df[\"Clus_kmeans\"] = labels\n",
    "df.head(5)"
   ]
  },
  {
   "cell_type": "code",
   "execution_count": 64,
   "id": "2c8c7ff7",
   "metadata": {},
   "outputs": [],
   "source": [
    "from sklearn.metrics import silhouette_samples, silhouette_score"
   ]
  },
  {
   "cell_type": "code",
   "execution_count": 65,
   "id": "d8f93970",
   "metadata": {},
   "outputs": [
    {
     "data": {
      "text/plain": [
       "0.4958288804603155"
      ]
     },
     "execution_count": 65,
     "metadata": {},
     "output_type": "execute_result"
    }
   ],
   "source": [
    "silhouette_score(scaled_df,labels)"
   ]
  },
  {
   "cell_type": "code",
   "execution_count": 66,
   "id": "d5655b15",
   "metadata": {},
   "outputs": [],
   "source": [
    "sil_width = silhouette_samples(scaled_df,labels)"
   ]
  },
  {
   "cell_type": "code",
   "execution_count": 71,
   "id": "65491515",
   "metadata": {},
   "outputs": [
    {
     "data": {
      "text/html": [
       "<div>\n",
       "<style scoped>\n",
       "    .dataframe tbody tr th:only-of-type {\n",
       "        vertical-align: middle;\n",
       "    }\n",
       "\n",
       "    .dataframe tbody tr th {\n",
       "        vertical-align: top;\n",
       "    }\n",
       "\n",
       "    .dataframe thead th {\n",
       "        text-align: right;\n",
       "    }\n",
       "</style>\n",
       "<table border=\"1\" class=\"dataframe\">\n",
       "  <thead>\n",
       "    <tr style=\"text-align: right;\">\n",
       "      <th></th>\n",
       "      <th>Timestamp</th>\n",
       "      <th>InventoryType</th>\n",
       "      <th>Ad - Length</th>\n",
       "      <th>Ad- Width</th>\n",
       "      <th>Ad Size</th>\n",
       "      <th>Ad Type</th>\n",
       "      <th>Platform</th>\n",
       "      <th>Device Type</th>\n",
       "      <th>Format</th>\n",
       "      <th>Available_Impressions</th>\n",
       "      <th>...</th>\n",
       "      <th>Clicks</th>\n",
       "      <th>Spend</th>\n",
       "      <th>Fee</th>\n",
       "      <th>Revenue</th>\n",
       "      <th>CTR</th>\n",
       "      <th>CPM</th>\n",
       "      <th>CPC</th>\n",
       "      <th>Clus_kmeans</th>\n",
       "      <th>sil_width</th>\n",
       "      <th>Clus_kmeans5</th>\n",
       "    </tr>\n",
       "  </thead>\n",
       "  <tbody>\n",
       "    <tr>\n",
       "      <th>0</th>\n",
       "      <td>2020-09-02 17:00:00</td>\n",
       "      <td>Format1</td>\n",
       "      <td>300</td>\n",
       "      <td>250</td>\n",
       "      <td>75000.0</td>\n",
       "      <td>Inter222</td>\n",
       "      <td>Video</td>\n",
       "      <td>Desktop</td>\n",
       "      <td>Display</td>\n",
       "      <td>1806.0</td>\n",
       "      <td>...</td>\n",
       "      <td>1.0</td>\n",
       "      <td>0.0</td>\n",
       "      <td>0.35</td>\n",
       "      <td>0.0</td>\n",
       "      <td>0.0031</td>\n",
       "      <td>0.0</td>\n",
       "      <td>0.0</td>\n",
       "      <td>0</td>\n",
       "      <td>0.104599</td>\n",
       "      <td>0</td>\n",
       "    </tr>\n",
       "    <tr>\n",
       "      <th>1</th>\n",
       "      <td>2020-09-02 10:00:00</td>\n",
       "      <td>Format1</td>\n",
       "      <td>300</td>\n",
       "      <td>250</td>\n",
       "      <td>75000.0</td>\n",
       "      <td>Inter227</td>\n",
       "      <td>App</td>\n",
       "      <td>Mobile</td>\n",
       "      <td>Video</td>\n",
       "      <td>1780.0</td>\n",
       "      <td>...</td>\n",
       "      <td>1.0</td>\n",
       "      <td>0.0</td>\n",
       "      <td>0.35</td>\n",
       "      <td>0.0</td>\n",
       "      <td>0.0035</td>\n",
       "      <td>0.0</td>\n",
       "      <td>0.0</td>\n",
       "      <td>0</td>\n",
       "      <td>0.103462</td>\n",
       "      <td>0</td>\n",
       "    </tr>\n",
       "    <tr>\n",
       "      <th>2</th>\n",
       "      <td>2020-09-01 22:00:00</td>\n",
       "      <td>Format1</td>\n",
       "      <td>300</td>\n",
       "      <td>250</td>\n",
       "      <td>75000.0</td>\n",
       "      <td>Inter222</td>\n",
       "      <td>Video</td>\n",
       "      <td>Desktop</td>\n",
       "      <td>Display</td>\n",
       "      <td>2727.0</td>\n",
       "      <td>...</td>\n",
       "      <td>1.0</td>\n",
       "      <td>0.0</td>\n",
       "      <td>0.35</td>\n",
       "      <td>0.0</td>\n",
       "      <td>0.0028</td>\n",
       "      <td>0.0</td>\n",
       "      <td>0.0</td>\n",
       "      <td>0</td>\n",
       "      <td>0.105323</td>\n",
       "      <td>0</td>\n",
       "    </tr>\n",
       "    <tr>\n",
       "      <th>3</th>\n",
       "      <td>2020-09-03 20:00:00</td>\n",
       "      <td>Format1</td>\n",
       "      <td>300</td>\n",
       "      <td>250</td>\n",
       "      <td>75000.0</td>\n",
       "      <td>Inter228</td>\n",
       "      <td>Video</td>\n",
       "      <td>Mobile</td>\n",
       "      <td>Video</td>\n",
       "      <td>2430.0</td>\n",
       "      <td>...</td>\n",
       "      <td>1.0</td>\n",
       "      <td>0.0</td>\n",
       "      <td>0.35</td>\n",
       "      <td>0.0</td>\n",
       "      <td>0.0020</td>\n",
       "      <td>0.0</td>\n",
       "      <td>0.0</td>\n",
       "      <td>0</td>\n",
       "      <td>0.106820</td>\n",
       "      <td>0</td>\n",
       "    </tr>\n",
       "    <tr>\n",
       "      <th>4</th>\n",
       "      <td>2020-09-04 15:00:00</td>\n",
       "      <td>Format1</td>\n",
       "      <td>300</td>\n",
       "      <td>250</td>\n",
       "      <td>75000.0</td>\n",
       "      <td>Inter217</td>\n",
       "      <td>Web</td>\n",
       "      <td>Desktop</td>\n",
       "      <td>Video</td>\n",
       "      <td>1218.0</td>\n",
       "      <td>...</td>\n",
       "      <td>1.0</td>\n",
       "      <td>0.0</td>\n",
       "      <td>0.35</td>\n",
       "      <td>0.0</td>\n",
       "      <td>0.0041</td>\n",
       "      <td>0.0</td>\n",
       "      <td>0.0</td>\n",
       "      <td>0</td>\n",
       "      <td>0.102304</td>\n",
       "      <td>0</td>\n",
       "    </tr>\n",
       "  </tbody>\n",
       "</table>\n",
       "<p>5 rows × 22 columns</p>\n",
       "</div>"
      ],
      "text/plain": [
       "            Timestamp InventoryType  Ad - Length  Ad- Width  Ad Size  \\\n",
       "0 2020-09-02 17:00:00       Format1          300        250  75000.0   \n",
       "1 2020-09-02 10:00:00       Format1          300        250  75000.0   \n",
       "2 2020-09-01 22:00:00       Format1          300        250  75000.0   \n",
       "3 2020-09-03 20:00:00       Format1          300        250  75000.0   \n",
       "4 2020-09-04 15:00:00       Format1          300        250  75000.0   \n",
       "\n",
       "    Ad Type Platform Device Type   Format  Available_Impressions  ...  Clicks  \\\n",
       "0  Inter222    Video     Desktop  Display                 1806.0  ...     1.0   \n",
       "1  Inter227      App      Mobile    Video                 1780.0  ...     1.0   \n",
       "2  Inter222    Video     Desktop  Display                 2727.0  ...     1.0   \n",
       "3  Inter228    Video      Mobile    Video                 2430.0  ...     1.0   \n",
       "4  Inter217      Web     Desktop    Video                 1218.0  ...     1.0   \n",
       "\n",
       "   Spend   Fee  Revenue     CTR  CPM  CPC  Clus_kmeans  sil_width  \\\n",
       "0    0.0  0.35      0.0  0.0031  0.0  0.0            0   0.104599   \n",
       "1    0.0  0.35      0.0  0.0035  0.0  0.0            0   0.103462   \n",
       "2    0.0  0.35      0.0  0.0028  0.0  0.0            0   0.105323   \n",
       "3    0.0  0.35      0.0  0.0020  0.0  0.0            0   0.106820   \n",
       "4    0.0  0.35      0.0  0.0041  0.0  0.0            0   0.102304   \n",
       "\n",
       "   Clus_kmeans5  \n",
       "0             0  \n",
       "1             0  \n",
       "2             0  \n",
       "3             0  \n",
       "4             0  \n",
       "\n",
       "[5 rows x 22 columns]"
      ]
     },
     "execution_count": 71,
     "metadata": {},
     "output_type": "execute_result"
    }
   ],
   "source": [
    "df[\"Clus_kmeans5\"] = labels\n",
    "df.head()"
   ]
  },
  {
   "cell_type": "code",
   "execution_count": 69,
   "id": "278542ca",
   "metadata": {},
   "outputs": [
    {
     "name": "stdout",
     "output_type": "stream",
     "text": [
      "For n_clusters=2, the silhouette score is 0.3680905237534154\n",
      "For n_clusters=3, the silhouette score is 0.3559735758261143\n",
      "For n_clusters=4, the silhouette score is 0.4164532592517519\n",
      "For n_clusters=5, the silhouette score is 0.4958236720012455\n",
      "For n_clusters=6, the silhouette score is 0.4897070435908224\n",
      "For n_clusters=7, the silhouette score is 0.4847156688376856\n",
      "For n_clusters=8, the silhouette score is 0.4471289178806727\n",
      "For n_clusters=9, the silhouette score is 0.4432441152643572\n",
      "For n_clusters=10, the silhouette score is 0.43329573288330275\n"
     ]
    }
   ],
   "source": [
    "# Silhouette Analysis\n",
    "from sklearn.metrics import silhouette_score\n",
    "range_n_clusters=[2,3,4,5,6,7,8,9,10]\n",
    "for num_clusters in range_n_clusters:\n",
    "    \n",
    "    # initialize K means\n",
    "    kmeans=KMeans(n_clusters=num_clusters, max_iter=50)\n",
    "    kmeans.fit(scaled_df)\n",
    "    cluster_labels=kmeans.labels_\n",
    "    #Silhouette Score\n",
    "    silhouette_avg = silhouette_score(scaled_df,cluster_labels)\n",
    "    print(\"For n_clusters={0}, the silhouette score is {1}\".format(num_clusters, silhouette_avg))"
   ]
  },
  {
   "cell_type": "code",
   "execution_count": 73,
   "id": "0646ee82",
   "metadata": {},
   "outputs": [
    {
     "data": {
      "text/plain": [
       "0    6141\n",
       "1    4050\n",
       "2    6706\n",
       "3    4627\n",
       "4    1542\n",
       "Name: Clus_kmeans5, dtype: int64"
      ]
     },
     "execution_count": 73,
     "metadata": {},
     "output_type": "execute_result"
    }
   ],
   "source": [
    "df.Clus_kmeans5.value_counts().sort_index()"
   ]
  },
  {
   "cell_type": "code",
   "execution_count": 74,
   "id": "35592660",
   "metadata": {},
   "outputs": [
    {
     "data": {
      "text/html": [
       "<div>\n",
       "<style scoped>\n",
       "    .dataframe tbody tr th:only-of-type {\n",
       "        vertical-align: middle;\n",
       "    }\n",
       "\n",
       "    .dataframe tbody tr th {\n",
       "        vertical-align: top;\n",
       "    }\n",
       "\n",
       "    .dataframe thead th {\n",
       "        text-align: right;\n",
       "    }\n",
       "</style>\n",
       "<table border=\"1\" class=\"dataframe\">\n",
       "  <thead>\n",
       "    <tr style=\"text-align: right;\">\n",
       "      <th></th>\n",
       "      <th>Timestamp</th>\n",
       "      <th>InventoryType</th>\n",
       "      <th>Ad - Length</th>\n",
       "      <th>Ad- Width</th>\n",
       "      <th>Ad Size</th>\n",
       "      <th>Ad Type</th>\n",
       "      <th>Platform</th>\n",
       "      <th>Device Type</th>\n",
       "      <th>Format</th>\n",
       "      <th>Available_Impressions</th>\n",
       "      <th>...</th>\n",
       "      <th>Clicks</th>\n",
       "      <th>Spend</th>\n",
       "      <th>Fee</th>\n",
       "      <th>Revenue</th>\n",
       "      <th>CTR</th>\n",
       "      <th>CPM</th>\n",
       "      <th>CPC</th>\n",
       "      <th>Clus_kmeans</th>\n",
       "      <th>sil_width</th>\n",
       "      <th>Clus_kmeans5</th>\n",
       "    </tr>\n",
       "  </thead>\n",
       "  <tbody>\n",
       "    <tr>\n",
       "      <th>0</th>\n",
       "      <td>2020-09-02 17:00:00</td>\n",
       "      <td>Format1</td>\n",
       "      <td>300</td>\n",
       "      <td>250</td>\n",
       "      <td>75000.0</td>\n",
       "      <td>Inter222</td>\n",
       "      <td>Video</td>\n",
       "      <td>Desktop</td>\n",
       "      <td>Display</td>\n",
       "      <td>1806.0</td>\n",
       "      <td>...</td>\n",
       "      <td>1.0</td>\n",
       "      <td>0.0</td>\n",
       "      <td>0.35</td>\n",
       "      <td>0.0</td>\n",
       "      <td>0.0031</td>\n",
       "      <td>0.0</td>\n",
       "      <td>0.0</td>\n",
       "      <td>0</td>\n",
       "      <td>0.104599</td>\n",
       "      <td>0</td>\n",
       "    </tr>\n",
       "    <tr>\n",
       "      <th>1</th>\n",
       "      <td>2020-09-02 10:00:00</td>\n",
       "      <td>Format1</td>\n",
       "      <td>300</td>\n",
       "      <td>250</td>\n",
       "      <td>75000.0</td>\n",
       "      <td>Inter227</td>\n",
       "      <td>App</td>\n",
       "      <td>Mobile</td>\n",
       "      <td>Video</td>\n",
       "      <td>1780.0</td>\n",
       "      <td>...</td>\n",
       "      <td>1.0</td>\n",
       "      <td>0.0</td>\n",
       "      <td>0.35</td>\n",
       "      <td>0.0</td>\n",
       "      <td>0.0035</td>\n",
       "      <td>0.0</td>\n",
       "      <td>0.0</td>\n",
       "      <td>0</td>\n",
       "      <td>0.103462</td>\n",
       "      <td>0</td>\n",
       "    </tr>\n",
       "    <tr>\n",
       "      <th>2</th>\n",
       "      <td>2020-09-01 22:00:00</td>\n",
       "      <td>Format1</td>\n",
       "      <td>300</td>\n",
       "      <td>250</td>\n",
       "      <td>75000.0</td>\n",
       "      <td>Inter222</td>\n",
       "      <td>Video</td>\n",
       "      <td>Desktop</td>\n",
       "      <td>Display</td>\n",
       "      <td>2727.0</td>\n",
       "      <td>...</td>\n",
       "      <td>1.0</td>\n",
       "      <td>0.0</td>\n",
       "      <td>0.35</td>\n",
       "      <td>0.0</td>\n",
       "      <td>0.0028</td>\n",
       "      <td>0.0</td>\n",
       "      <td>0.0</td>\n",
       "      <td>0</td>\n",
       "      <td>0.105323</td>\n",
       "      <td>0</td>\n",
       "    </tr>\n",
       "    <tr>\n",
       "      <th>3</th>\n",
       "      <td>2020-09-03 20:00:00</td>\n",
       "      <td>Format1</td>\n",
       "      <td>300</td>\n",
       "      <td>250</td>\n",
       "      <td>75000.0</td>\n",
       "      <td>Inter228</td>\n",
       "      <td>Video</td>\n",
       "      <td>Mobile</td>\n",
       "      <td>Video</td>\n",
       "      <td>2430.0</td>\n",
       "      <td>...</td>\n",
       "      <td>1.0</td>\n",
       "      <td>0.0</td>\n",
       "      <td>0.35</td>\n",
       "      <td>0.0</td>\n",
       "      <td>0.0020</td>\n",
       "      <td>0.0</td>\n",
       "      <td>0.0</td>\n",
       "      <td>0</td>\n",
       "      <td>0.106820</td>\n",
       "      <td>0</td>\n",
       "    </tr>\n",
       "    <tr>\n",
       "      <th>4</th>\n",
       "      <td>2020-09-04 15:00:00</td>\n",
       "      <td>Format1</td>\n",
       "      <td>300</td>\n",
       "      <td>250</td>\n",
       "      <td>75000.0</td>\n",
       "      <td>Inter217</td>\n",
       "      <td>Web</td>\n",
       "      <td>Desktop</td>\n",
       "      <td>Video</td>\n",
       "      <td>1218.0</td>\n",
       "      <td>...</td>\n",
       "      <td>1.0</td>\n",
       "      <td>0.0</td>\n",
       "      <td>0.35</td>\n",
       "      <td>0.0</td>\n",
       "      <td>0.0041</td>\n",
       "      <td>0.0</td>\n",
       "      <td>0.0</td>\n",
       "      <td>0</td>\n",
       "      <td>0.102304</td>\n",
       "      <td>0</td>\n",
       "    </tr>\n",
       "  </tbody>\n",
       "</table>\n",
       "<p>5 rows × 22 columns</p>\n",
       "</div>"
      ],
      "text/plain": [
       "            Timestamp InventoryType  Ad - Length  Ad- Width  Ad Size  \\\n",
       "0 2020-09-02 17:00:00       Format1          300        250  75000.0   \n",
       "1 2020-09-02 10:00:00       Format1          300        250  75000.0   \n",
       "2 2020-09-01 22:00:00       Format1          300        250  75000.0   \n",
       "3 2020-09-03 20:00:00       Format1          300        250  75000.0   \n",
       "4 2020-09-04 15:00:00       Format1          300        250  75000.0   \n",
       "\n",
       "    Ad Type Platform Device Type   Format  Available_Impressions  ...  Clicks  \\\n",
       "0  Inter222    Video     Desktop  Display                 1806.0  ...     1.0   \n",
       "1  Inter227      App      Mobile    Video                 1780.0  ...     1.0   \n",
       "2  Inter222    Video     Desktop  Display                 2727.0  ...     1.0   \n",
       "3  Inter228    Video      Mobile    Video                 2430.0  ...     1.0   \n",
       "4  Inter217      Web     Desktop    Video                 1218.0  ...     1.0   \n",
       "\n",
       "   Spend   Fee  Revenue     CTR  CPM  CPC  Clus_kmeans  sil_width  \\\n",
       "0    0.0  0.35      0.0  0.0031  0.0  0.0            0   0.104599   \n",
       "1    0.0  0.35      0.0  0.0035  0.0  0.0            0   0.103462   \n",
       "2    0.0  0.35      0.0  0.0028  0.0  0.0            0   0.105323   \n",
       "3    0.0  0.35      0.0  0.0020  0.0  0.0            0   0.106820   \n",
       "4    0.0  0.35      0.0  0.0041  0.0  0.0            0   0.102304   \n",
       "\n",
       "   Clus_kmeans5  \n",
       "0             0  \n",
       "1             0  \n",
       "2             0  \n",
       "3             0  \n",
       "4             0  \n",
       "\n",
       "[5 rows x 22 columns]"
      ]
     },
     "execution_count": 74,
     "metadata": {},
     "output_type": "execute_result"
    }
   ],
   "source": [
    "df.head ()"
   ]
  },
  {
   "cell_type": "code",
   "execution_count": 76,
   "id": "f5926680",
   "metadata": {},
   "outputs": [
    {
     "data": {
      "text/html": [
       "<div>\n",
       "<style scoped>\n",
       "    .dataframe tbody tr th:only-of-type {\n",
       "        vertical-align: middle;\n",
       "    }\n",
       "\n",
       "    .dataframe tbody tr th {\n",
       "        vertical-align: top;\n",
       "    }\n",
       "\n",
       "    .dataframe thead th {\n",
       "        text-align: right;\n",
       "    }\n",
       "</style>\n",
       "<table border=\"1\" class=\"dataframe\">\n",
       "  <thead>\n",
       "    <tr style=\"text-align: right;\">\n",
       "      <th></th>\n",
       "      <th>Ad - Length</th>\n",
       "      <th>Ad- Width</th>\n",
       "      <th>Ad Size</th>\n",
       "      <th>Available_Impressions</th>\n",
       "      <th>Matched_Queries</th>\n",
       "      <th>Impressions</th>\n",
       "      <th>Clicks</th>\n",
       "      <th>Spend</th>\n",
       "      <th>Fee</th>\n",
       "      <th>Revenue</th>\n",
       "      <th>CTR</th>\n",
       "      <th>CPM</th>\n",
       "      <th>CPC</th>\n",
       "      <th>Clus_kmeans</th>\n",
       "      <th>sil_width</th>\n",
       "      <th>freq</th>\n",
       "    </tr>\n",
       "    <tr>\n",
       "      <th>Clus_kmeans5</th>\n",
       "      <th></th>\n",
       "      <th></th>\n",
       "      <th></th>\n",
       "      <th></th>\n",
       "      <th></th>\n",
       "      <th></th>\n",
       "      <th></th>\n",
       "      <th></th>\n",
       "      <th></th>\n",
       "      <th></th>\n",
       "      <th></th>\n",
       "      <th></th>\n",
       "      <th></th>\n",
       "      <th></th>\n",
       "      <th></th>\n",
       "      <th></th>\n",
       "    </tr>\n",
       "  </thead>\n",
       "  <tbody>\n",
       "    <tr>\n",
       "      <th>0</th>\n",
       "      <td>424.903436</td>\n",
       "      <td>149.711773</td>\n",
       "      <td>64057.098192</td>\n",
       "      <td>1.848660e+06</td>\n",
       "      <td>8.822264e+05</td>\n",
       "      <td>8.432510e+05</td>\n",
       "      <td>3331.871356</td>\n",
       "      <td>1531.051212</td>\n",
       "      <td>0.349238</td>\n",
       "      <td>997.647976</td>\n",
       "      <td>0.015661</td>\n",
       "      <td>2.657790</td>\n",
       "      <td>0.463748</td>\n",
       "      <td>0.0</td>\n",
       "      <td>0.435067</td>\n",
       "      <td>6141</td>\n",
       "    </tr>\n",
       "    <tr>\n",
       "      <th>1</th>\n",
       "      <td>465.109136</td>\n",
       "      <td>199.587654</td>\n",
       "      <td>72996.207407</td>\n",
       "      <td>5.696500e+06</td>\n",
       "      <td>2.806626e+06</td>\n",
       "      <td>2.671750e+06</td>\n",
       "      <td>11255.924938</td>\n",
       "      <td>5740.641901</td>\n",
       "      <td>0.313259</td>\n",
       "      <td>3879.676560</td>\n",
       "      <td>0.013924</td>\n",
       "      <td>2.458773</td>\n",
       "      <td>0.641920</td>\n",
       "      <td>1.0</td>\n",
       "      <td>0.445973</td>\n",
       "      <td>4050</td>\n",
       "    </tr>\n",
       "    <tr>\n",
       "      <th>2</th>\n",
       "      <td>147.716672</td>\n",
       "      <td>563.726514</td>\n",
       "      <td>74068.595288</td>\n",
       "      <td>3.687644e+04</td>\n",
       "      <td>2.232337e+04</td>\n",
       "      <td>1.622806e+04</td>\n",
       "      <td>1921.532564</td>\n",
       "      <td>213.800895</td>\n",
       "      <td>0.349991</td>\n",
       "      <td>138.998507</td>\n",
       "      <td>0.127458</td>\n",
       "      <td>12.038981</td>\n",
       "      <td>0.121676</td>\n",
       "      <td>2.0</td>\n",
       "      <td>0.519161</td>\n",
       "      <td>6706</td>\n",
       "    </tr>\n",
       "    <tr>\n",
       "      <th>3</th>\n",
       "      <td>687.602334</td>\n",
       "      <td>303.447158</td>\n",
       "      <td>100906.851091</td>\n",
       "      <td>2.511389e+05</td>\n",
       "      <td>1.373969e+05</td>\n",
       "      <td>1.165686e+05</td>\n",
       "      <td>14170.121434</td>\n",
       "      <td>1253.085829</td>\n",
       "      <td>0.349555</td>\n",
       "      <td>816.005844</td>\n",
       "      <td>0.114663</td>\n",
       "      <td>10.332640</td>\n",
       "      <td>0.107597</td>\n",
       "      <td>3.0</td>\n",
       "      <td>0.537793</td>\n",
       "      <td>4627</td>\n",
       "    </tr>\n",
       "    <tr>\n",
       "      <th>4</th>\n",
       "      <td>142.038911</td>\n",
       "      <td>571.854734</td>\n",
       "      <td>73743.190661</td>\n",
       "      <td>8.042368e+05</td>\n",
       "      <td>5.655782e+05</td>\n",
       "      <td>4.770659e+05</td>\n",
       "      <td>30549.177610</td>\n",
       "      <td>6536.173865</td>\n",
       "      <td>0.305636</td>\n",
       "      <td>4464.700046</td>\n",
       "      <td>0.129439</td>\n",
       "      <td>14.046284</td>\n",
       "      <td>0.117873</td>\n",
       "      <td>4.0</td>\n",
       "      <td>0.641366</td>\n",
       "      <td>1542</td>\n",
       "    </tr>\n",
       "  </tbody>\n",
       "</table>\n",
       "</div>"
      ],
      "text/plain": [
       "              Ad - Length   Ad- Width        Ad Size  Available_Impressions  \\\n",
       "Clus_kmeans5                                                                  \n",
       "0              424.903436  149.711773   64057.098192           1.848660e+06   \n",
       "1              465.109136  199.587654   72996.207407           5.696500e+06   \n",
       "2              147.716672  563.726514   74068.595288           3.687644e+04   \n",
       "3              687.602334  303.447158  100906.851091           2.511389e+05   \n",
       "4              142.038911  571.854734   73743.190661           8.042368e+05   \n",
       "\n",
       "              Matched_Queries   Impressions        Clicks        Spend  \\\n",
       "Clus_kmeans5                                                             \n",
       "0                8.822264e+05  8.432510e+05   3331.871356  1531.051212   \n",
       "1                2.806626e+06  2.671750e+06  11255.924938  5740.641901   \n",
       "2                2.232337e+04  1.622806e+04   1921.532564   213.800895   \n",
       "3                1.373969e+05  1.165686e+05  14170.121434  1253.085829   \n",
       "4                5.655782e+05  4.770659e+05  30549.177610  6536.173865   \n",
       "\n",
       "                   Fee      Revenue       CTR        CPM       CPC  \\\n",
       "Clus_kmeans5                                                         \n",
       "0             0.349238   997.647976  0.015661   2.657790  0.463748   \n",
       "1             0.313259  3879.676560  0.013924   2.458773  0.641920   \n",
       "2             0.349991   138.998507  0.127458  12.038981  0.121676   \n",
       "3             0.349555   816.005844  0.114663  10.332640  0.107597   \n",
       "4             0.305636  4464.700046  0.129439  14.046284  0.117873   \n",
       "\n",
       "              Clus_kmeans  sil_width  freq  \n",
       "Clus_kmeans5                                \n",
       "0                     0.0   0.435067  6141  \n",
       "1                     1.0   0.445973  4050  \n",
       "2                     2.0   0.519161  6706  \n",
       "3                     3.0   0.537793  4627  \n",
       "4                     4.0   0.641366  1542  "
      ]
     },
     "execution_count": 76,
     "metadata": {},
     "output_type": "execute_result"
    }
   ],
   "source": [
    "clust_profile=df.drop(['Timestamp','InventoryType','Clus_kmeans','sil_width','Clus_kmeans5'],axis=1)\n",
    "clust_profile=df.groupby('Clus_kmeans5').mean()\n",
    "clust_profile['freq']=df.Clus_kmeans5.value_counts().sort_index()\n",
    "clust_profile"
   ]
  },
  {
   "cell_type": "code",
   "execution_count": 79,
   "id": "68b78289",
   "metadata": {},
   "outputs": [
    {
     "data": {
      "image/png": "[encoded data removed]",
      "text/plain": [
       "<Figure size 1000x600 with 1 Axes>"
      ]
     },
     "metadata": {},
     "output_type": "display_data"
    },
    {
     "data": {
      "image/png": "[encoded data removed]",
      "text/plain": [
       "<Figure size 1000x600 with 1 Axes>"
      ]
     },
     "metadata": {},
     "output_type": "display_data"
    },
    {
     "data": {
      "image/png": "[encoded data removed]",
      "text/plain": [
       "<Figure size 1000x600 with 1 Axes>"
      ]
     },
     "metadata": {},
     "output_type": "display_data"
    },
    {
     "data": {
      "image/png": "[encoded data removed]",
      "text/plain": [
       "<Figure size 1000x600 with 1 Axes>"
      ]
     },
     "metadata": {},
     "output_type": "display_data"
    },
    {
     "data": {
      "image/png": "[encoded data removed]",
      "text/plain": [
       "<Figure size 1000x600 with 1 Axes>"
      ]
     },
     "metadata": {},
     "output_type": "display_data"
    },
    {
     "data": {
      "image/png": "[encoded data removed]",
      "text/plain": [
       "<Figure size 1000x600 with 1 Axes>"
      ]
     },
     "metadata": {},
     "output_type": "display_data"
    }
   ],
   "source": [
    "import pandas as pd\n",
    "import matplotlib.pyplot as plt\n",
    "from sklearn.cluster import KMeans\n",
    "\n",
    "# Assuming you have a DataFrame 'ad_data' with columns: 'Device Type', 'Clicks', 'Spend', 'Revenue', 'CPM', 'CTR', 'CPC'\n",
    "\n",
    "# Step 1: Perform K-Means clustering\n",
    "n_clusters = 5  # Optimal number of clusters\n",
    "kmeans = KMeans(n_clusters=n_clusters, random_state=42)\n",
    "df['Cluster'] = kmeans.fit_predict(df[['Clicks', 'Spend', 'Revenue', 'CPM', 'CTR', 'CPC']])\n",
    "\n",
    "# Step 2: Group data by clusters and Device Type, calculate mean or sum\n",
    "clustered_data = df.groupby(['Cluster', 'Device Type'])[['Clicks', 'Spend', 'Revenue', 'CPM', 'CTR', 'CPC']].mean().reset_index()\n",
    "\n",
    "# Step 3: Create bar plots for each metric\n",
    "metrics = ['Clicks', 'Spend', 'Revenue', 'CPM', 'CTR', 'CPC']\n",
    "\n",
    "for metric in metrics:\n",
    "    plt.figure(figsize=(10, 6))\n",
    "    for cluster in range(n_clusters):\n",
    "        cluster_data = clustered_data[clustered_data['Cluster'] == cluster]\n",
    "        plt.bar(cluster_data['Device Type'], cluster_data[metric], label=f'Cluster {cluster}')\n",
    "    plt.xlabel('Device Type')\n",
    "    plt.ylabel(metric)\n",
    "    plt.title(f'{metric} by Cluster and Device Type')\n",
    "    plt.legend()\n",
    "    plt.show()\n"
   ]
  },
  {
   "cell_type": "code",
   "execution_count": 81,
   "id": "54fb751c",
   "metadata": {},
   "outputs": [
    {
     "data": {
      "image/png": "[encoded data removed]",
      "text/plain": [
       "<Figure size 500x200 with 1 Axes>"
      ]
     },
     "metadata": {},
     "output_type": "display_data"
    },
    {
     "data": {
      "image/png": "[encoded data removed]",
      "text/plain": [
       "<Figure size 500x200 with 1 Axes>"
      ]
     },
     "metadata": {},
     "output_type": "display_data"
    },
    {
     "data": {
      "image/png": "[encoded data removed]",
      "text/plain": [
       "<Figure size 500x200 with 1 Axes>"
      ]
     },
     "metadata": {},
     "output_type": "display_data"
    },
    {
     "data": {
      "image/png": "[encoded data removed]",
      "text/plain": [
       "<Figure size 500x200 with 1 Axes>"
      ]
     },
     "metadata": {},
     "output_type": "display_data"
    },
    {
     "data": {
      "image/png": "[encoded data removed]",
      "text/plain": [
       "<Figure size 500x200 with 1 Axes>"
      ]
     },
     "metadata": {},
     "output_type": "display_data"
    },
    {
     "data": {
      "image/png": "[encoded data removed]",
      "text/plain": [
       "<Figure size 500x200 with 1 Axes>"
      ]
     },
     "metadata": {},
     "output_type": "display_data"
    }
   ],
   "source": [
    "import pandas as pd\n",
    "import matplotlib.pyplot as plt\n",
    "from sklearn.cluster import KMeans\n",
    "\n",
    "# Assuming you have a DataFrame 'df' with columns: 'Device Type', 'Clicks', 'Spend', 'Revenue', 'CPM', 'CTR', 'CPC'\n",
    "\n",
    "# Step 1: Perform K-Means clustering\n",
    "n_clusters = 5  # Optimal number of clusters\n",
    "kmeans = KMeans(n_clusters=n_clusters, random_state=42)\n",
    "df['Cluster'] = kmeans.fit_predict(df[['Clicks', 'Spend', 'Revenue', 'CPM', 'CTR', 'CPC']])\n",
    "\n",
    "# Step 2: Group data by clusters and Device Type, calculate mean or sum\n",
    "clustered_data = df.groupby(['Cluster', 'Device Type'])[['Clicks', 'Spend', 'Revenue', 'CPM', 'CTR', 'CPC']].mean().reset_index()\n",
    "\n",
    "# Step 3: Create separate bar plots for each metric\n",
    "metrics = ['Clicks', 'Spend', 'Revenue', 'CPM', 'CTR', 'CPC']\n",
    "\n",
    "for metric in metrics:\n",
    "    plt.figure(figsize=(5, 2))\n",
    "    for cluster in range(n_clusters):\n",
    "        cluster_data = clustered_data[clustered_data['Cluster'] == cluster]\n",
    "        plt.bar(cluster_data['Device Type'], cluster_data[metric], label=f'Cluster {cluster}')\n",
    "    plt.xlabel('Device Type')\n",
    "    plt.ylabel(metric)\n",
    "    plt.title(f'{metric} by Cluster and Device Type')\n",
    "    plt.legend()\n",
    "    plt.show()\n"
   ]
  },
  {
   "cell_type": "code",
   "execution_count": 83,
   "id": "32aaf4e4",
   "metadata": {},
   "outputs": [
    {
     "data": {
      "image/png": "[encoded data removed]",
      "text/plain": [
       "<Figure size 500x300 with 1 Axes>"
      ]
     },
     "metadata": {},
     "output_type": "display_data"
    },
    {
     "data": {
      "image/png": "[encoded data removed]",
      "text/plain": [
       "<Figure size 500x300 with 1 Axes>"
      ]
     },
     "metadata": {},
     "output_type": "display_data"
    },
    {
     "data": {
      "image/png": "[encoded data removed]",
      "text/plain": [
       "<Figure size 500x300 with 1 Axes>"
      ]
     },
     "metadata": {},
     "output_type": "display_data"
    },
    {
     "data": {
      "image/png": "[encoded data removed]",
      "text/plain": [
       "<Figure size 500x300 with 1 Axes>"
      ]
     },
     "metadata": {},
     "output_type": "display_data"
    },
    {
     "data": {
      "image/png": "[encoded data removed]",
      "text/plain": [
       "<Figure size 500x300 with 1 Axes>"
      ]
     },
     "metadata": {},
     "output_type": "display_data"
    },
    {
     "data": {
      "image/png": "[encoded data removed]",
      "text/plain": [
       "<Figure size 500x300 with 1 Axes>"
      ]
     },
     "metadata": {},
     "output_type": "display_data"
    }
   ],
   "source": [
    "import pandas as pd\n",
    "import matplotlib.pyplot as plt\n",
    "from sklearn.cluster import KMeans\n",
    "\n",
    "# Assuming you have a DataFrame 'df' with columns: 'Device Type', 'Clicks', 'Spend', 'Revenue', 'CPM', 'CTR', 'CPC'\n",
    "\n",
    "# Step 1: Perform K-Means clustering\n",
    "n_clusters = 5  # Optimal number of clusters\n",
    "kmeans = KMeans(n_clusters=n_clusters, random_state=42)\n",
    "df['Cluster'] = kmeans.fit_predict(df[['Clicks', 'Spend', 'Revenue', 'CPM', 'CTR', 'CPC']])\n",
    "\n",
    "# Step 2: Group data by clusters and calculate mean or sum for each metric\n",
    "clustered_data = df.groupby('Cluster')[['Clicks', 'Spend', 'Revenue', 'CPM', 'CTR', 'CPC']].mean().reset_index()\n",
    "\n",
    "# Step 3: Create bar plots for each metric\n",
    "metrics = ['Clicks', 'Spend', 'Revenue', 'CPM', 'CTR', 'CPC']\n",
    "\n",
    "for metric in metrics:\n",
    "    plt.figure(figsize=(5, 3))\n",
    "    plt.bar(clustered_data['Cluster'], clustered_data[metric])\n",
    "    plt.xlabel('Cluster')\n",
    "    plt.ylabel(metric)\n",
    "    plt.title(f'{metric} by Cluster')\n",
    "    plt.show()\n"
   ]
  },
  {
   "cell_type": "code",
   "execution_count": 84,
   "id": "20033e57",
   "metadata": {},
   "outputs": [
    {
     "name": "stdout",
     "output_type": "stream",
     "text": [
      "Cluster-wise Clicks:\n",
      "\n",
      "               Clicks\n",
      "Cluster              \n",
      "0         4847.081844\n",
      "1        19568.417388\n",
      "2        30094.173775\n",
      "3        10037.295817\n",
      "4          722.903347\n",
      "\n",
      "\n",
      "Cluster-wise Spend:\n",
      "\n",
      "               Spend\n",
      "Cluster             \n",
      "0        2161.003026\n",
      "1        3849.176103\n",
      "2        5431.627452\n",
      "3        3756.296768\n",
      "4         267.238943\n",
      "\n",
      "\n",
      "Cluster-wise Revenue:\n",
      "\n",
      "             Revenue\n",
      "Cluster             \n",
      "0        1425.365618\n",
      "1        2558.179555\n",
      "2        3686.444682\n",
      "3        2540.743125\n",
      "4         173.711766\n",
      "\n",
      "\n",
      "Cluster-wise CPM:\n",
      "\n",
      "               CPM\n",
      "Cluster           \n",
      "0         4.048353\n",
      "1         7.891003\n",
      "2        12.332641\n",
      "3         6.269979\n",
      "4         8.954799\n",
      "\n",
      "\n",
      "Cluster-wise CTR:\n",
      "\n",
      "              CTR\n",
      "Cluster          \n",
      "0        0.030801\n",
      "1        0.082769\n",
      "2        0.123720\n",
      "3        0.055735\n",
      "4        0.093175\n",
      "\n",
      "\n",
      "Cluster-wise CPC:\n",
      "\n",
      "              CPC\n",
      "Cluster          \n",
      "0        0.421603\n",
      "1        0.326716\n",
      "2        0.134886\n",
      "3        0.385245\n",
      "4        0.235172\n",
      "\n",
      "\n"
     ]
    }
   ],
   "source": [
    "import pandas as pd\n",
    "from sklearn.cluster import KMeans\n",
    "\n",
    "# Assuming you have a DataFrame 'df' with columns: 'Device Type', 'Clicks', 'Spend', 'Revenue', 'CPM', 'CTR', 'CPC'\n",
    "\n",
    "# Step 1: Perform K-Means clustering\n",
    "n_clusters = 5  # Optimal number of clusters\n",
    "kmeans = KMeans(n_clusters=n_clusters, random_state=42)\n",
    "df['Cluster'] = kmeans.fit_predict(df[['Clicks', 'Spend', 'Revenue', 'CPM', 'CTR', 'CPC']])\n",
    "\n",
    "# Step 2: Group data by clusters and calculate mean or sum for each metric\n",
    "clustered_data = df.groupby('Cluster')[['Clicks', 'Spend', 'Revenue', 'CPM', 'CTR', 'CPC']].mean()  # Use 'sum()' for sum instead of 'mean()' if needed\n",
    "\n",
    "# Print the results for each metric within each cluster\n",
    "metrics = ['Clicks', 'Spend', 'Revenue', 'CPM', 'CTR', 'CPC']\n",
    "\n",
    "for metric in metrics:\n",
    "    print(f\"Cluster-wise {metric}:\\n\")\n",
    "    print(clustered_data[[metric]])\n",
    "    print(\"\\n\")\n"
   ]
  },
  {
   "cell_type": "code",
   "execution_count": null,
   "id": "462c3c17",
   "metadata": {},
   "outputs": [],
   "source": []
  }
 ],
 "metadata": {
  "kernelspec": {
   "display_name": "Python 3 (ipykernel)",
   "language": "python",
   "name": "python3"
  },
  "language_info": {
   "codemirror_mode": {
    "name": "ipython",
    "version": 3
   },
   "file_extension": ".py",
   "mimetype": "text/x-python",
   "name": "python",
   "nbconvert_exporter": "python",
   "pygments_lexer": "ipython3",
   "version": "3.10.9"
  }
 },
 "nbformat": 4,
 "nbformat_minor": 5
}
