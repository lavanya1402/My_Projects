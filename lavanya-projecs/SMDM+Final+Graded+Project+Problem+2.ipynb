{
 "cells": [
  {
   "cell_type": "code",
   "execution_count": 1,
   "id": "adb09ff0",
   "metadata": {},
   "outputs": [],
   "source": [
    "import numpy as np\n",
    "import pandas as pd\n",
    "import matplotlib.pyplot as plt\n",
    "import seaborn as sns\n",
    "import os\n",
    "%matplotlib inline\n",
    "import warnings\n",
    "warnings.filterwarnings(\"ignore\")"
   ]
  },
  {
   "cell_type": "code",
   "execution_count": 2,
   "id": "8f8eb011",
   "metadata": {},
   "outputs": [
    {
     "name": "stdout",
     "output_type": "stream",
     "text": [
      "1.23.5\n",
      "1.5.3\n",
      "0.12.2\n"
     ]
    }
   ],
   "source": [
    "print(np.__version__)\n",
    "print(pd.__version__)\n",
    "print(sns.__version__)"
   ]
  },
  {
   "cell_type": "code",
   "execution_count": 3,
   "id": "2b1c4a5e",
   "metadata": {},
   "outputs": [],
   "source": [
    "df = pd.read_excel(r\"C:\\Users\\lavan\\Downloads\\godigt_cc_data (1).xlsx\")"
   ]
  },
  {
   "cell_type": "code",
   "execution_count": 4,
   "id": "76b57548",
   "metadata": {},
   "outputs": [
    {
     "data": {
      "text/html": [
       "<div>\n",
       "<style scoped>\n",
       "    .dataframe tbody tr th:only-of-type {\n",
       "        vertical-align: middle;\n",
       "    }\n",
       "\n",
       "    .dataframe tbody tr th {\n",
       "        vertical-align: top;\n",
       "    }\n",
       "\n",
       "    .dataframe thead th {\n",
       "        text-align: right;\n",
       "    }\n",
       "</style>\n",
       "<table border=\"1\" class=\"dataframe\">\n",
       "  <thead>\n",
       "    <tr style=\"text-align: right;\">\n",
       "      <th></th>\n",
       "      <th>userid</th>\n",
       "      <th>card_no</th>\n",
       "      <th>card_bin_no</th>\n",
       "      <th>Issuer</th>\n",
       "      <th>card_type</th>\n",
       "      <th>card_source_date</th>\n",
       "      <th>high_networth</th>\n",
       "      <th>active_30</th>\n",
       "      <th>active_60</th>\n",
       "      <th>active_90</th>\n",
       "      <th>...</th>\n",
       "      <th>bank_vintage</th>\n",
       "      <th>T+1_month_activity</th>\n",
       "      <th>T+2_month_activity</th>\n",
       "      <th>T+3_month_activity</th>\n",
       "      <th>T+6_month_activity</th>\n",
       "      <th>T+12_month_activity</th>\n",
       "      <th>Transactor_revolver</th>\n",
       "      <th>avg_spends_l3m</th>\n",
       "      <th>Occupation_at_source</th>\n",
       "      <th>cc_limit</th>\n",
       "    </tr>\n",
       "  </thead>\n",
       "  <tbody>\n",
       "    <tr>\n",
       "      <th>0</th>\n",
       "      <td>1</td>\n",
       "      <td>4384 39XX XXXX XXXX</td>\n",
       "      <td>438439</td>\n",
       "      <td>Visa</td>\n",
       "      <td>edge</td>\n",
       "      <td>2019-09-29</td>\n",
       "      <td>B</td>\n",
       "      <td>0</td>\n",
       "      <td>1</td>\n",
       "      <td>1</td>\n",
       "      <td>...</td>\n",
       "      <td>27</td>\n",
       "      <td>0</td>\n",
       "      <td>0</td>\n",
       "      <td>0</td>\n",
       "      <td>0</td>\n",
       "      <td>0</td>\n",
       "      <td>T</td>\n",
       "      <td>27729</td>\n",
       "      <td>Self Employed</td>\n",
       "      <td>290000</td>\n",
       "    </tr>\n",
       "    <tr>\n",
       "      <th>1</th>\n",
       "      <td>2</td>\n",
       "      <td>4377 48XX XXXX XXXX</td>\n",
       "      <td>437748</td>\n",
       "      <td>Visa</td>\n",
       "      <td>prosperity</td>\n",
       "      <td>2002-10-30</td>\n",
       "      <td>A</td>\n",
       "      <td>1</td>\n",
       "      <td>1</td>\n",
       "      <td>1</td>\n",
       "      <td>...</td>\n",
       "      <td>52</td>\n",
       "      <td>0</td>\n",
       "      <td>0</td>\n",
       "      <td>0</td>\n",
       "      <td>0</td>\n",
       "      <td>0</td>\n",
       "      <td>R</td>\n",
       "      <td>280854</td>\n",
       "      <td>0</td>\n",
       "      <td>950000</td>\n",
       "    </tr>\n",
       "    <tr>\n",
       "      <th>2</th>\n",
       "      <td>3</td>\n",
       "      <td>4377 48XX XXXX XXXX</td>\n",
       "      <td>437748</td>\n",
       "      <td>Visa</td>\n",
       "      <td>rewards</td>\n",
       "      <td>2013-10-05</td>\n",
       "      <td>C</td>\n",
       "      <td>0</td>\n",
       "      <td>0</td>\n",
       "      <td>0</td>\n",
       "      <td>...</td>\n",
       "      <td>23</td>\n",
       "      <td>1</td>\n",
       "      <td>0</td>\n",
       "      <td>0</td>\n",
       "      <td>0</td>\n",
       "      <td>0</td>\n",
       "      <td>R</td>\n",
       "      <td>70587</td>\n",
       "      <td>Student</td>\n",
       "      <td>210000</td>\n",
       "    </tr>\n",
       "    <tr>\n",
       "      <th>3</th>\n",
       "      <td>4</td>\n",
       "      <td>4258 06XX XXXX XXXX</td>\n",
       "      <td>425806</td>\n",
       "      <td>Visa</td>\n",
       "      <td>indianoil</td>\n",
       "      <td>1999-06-01</td>\n",
       "      <td>E</td>\n",
       "      <td>0</td>\n",
       "      <td>1</td>\n",
       "      <td>1</td>\n",
       "      <td>...</td>\n",
       "      <td>49</td>\n",
       "      <td>0</td>\n",
       "      <td>0</td>\n",
       "      <td>1</td>\n",
       "      <td>0</td>\n",
       "      <td>0</td>\n",
       "      <td>T</td>\n",
       "      <td>9156</td>\n",
       "      <td>Self Employed</td>\n",
       "      <td>80000</td>\n",
       "    </tr>\n",
       "    <tr>\n",
       "      <th>4</th>\n",
       "      <td>5</td>\n",
       "      <td>4377 48XX XXXX XXXX</td>\n",
       "      <td>437748</td>\n",
       "      <td>Visa</td>\n",
       "      <td>edge</td>\n",
       "      <td>2006-06-13</td>\n",
       "      <td>B</td>\n",
       "      <td>1</td>\n",
       "      <td>1</td>\n",
       "      <td>1</td>\n",
       "      <td>...</td>\n",
       "      <td>21</td>\n",
       "      <td>1</td>\n",
       "      <td>0</td>\n",
       "      <td>0</td>\n",
       "      <td>0</td>\n",
       "      <td>0</td>\n",
       "      <td>T</td>\n",
       "      <td>38108</td>\n",
       "      <td>Salaried</td>\n",
       "      <td>220000</td>\n",
       "    </tr>\n",
       "  </tbody>\n",
       "</table>\n",
       "<p>5 rows × 28 columns</p>\n",
       "</div>"
      ],
      "text/plain": [
       "   userid              card_no  card_bin_no Issuer   card_type  \\\n",
       "0       1  4384 39XX XXXX XXXX       438439   Visa        edge   \n",
       "1       2  4377 48XX XXXX XXXX       437748   Visa  prosperity   \n",
       "2       3  4377 48XX XXXX XXXX       437748   Visa     rewards   \n",
       "3       4  4258 06XX XXXX XXXX       425806   Visa   indianoil   \n",
       "4       5  4377 48XX XXXX XXXX       437748   Visa        edge   \n",
       "\n",
       "  card_source_date high_networth  active_30  active_60  active_90  ...  \\\n",
       "0       2019-09-29             B          0          1          1  ...   \n",
       "1       2002-10-30             A          1          1          1  ...   \n",
       "2       2013-10-05             C          0          0          0  ...   \n",
       "3       1999-06-01             E          0          1          1  ...   \n",
       "4       2006-06-13             B          1          1          1  ...   \n",
       "\n",
       "   bank_vintage  T+1_month_activity  T+2_month_activity T+3_month_activity  \\\n",
       "0            27                   0                   0                  0   \n",
       "1            52                   0                   0                  0   \n",
       "2            23                   1                   0                  0   \n",
       "3            49                   0                   0                  1   \n",
       "4            21                   1                   0                  0   \n",
       "\n",
       "   T+6_month_activity  T+12_month_activity  Transactor_revolver  \\\n",
       "0                   0                    0                    T   \n",
       "1                   0                    0                    R   \n",
       "2                   0                    0                    R   \n",
       "3                   0                    0                    T   \n",
       "4                   0                    0                    T   \n",
       "\n",
       "  avg_spends_l3m  Occupation_at_source  cc_limit  \n",
       "0          27729         Self Employed    290000  \n",
       "1         280854                     0    950000  \n",
       "2          70587               Student    210000  \n",
       "3           9156         Self Employed     80000  \n",
       "4          38108              Salaried    220000  \n",
       "\n",
       "[5 rows x 28 columns]"
      ]
     },
     "execution_count": 4,
     "metadata": {},
     "output_type": "execute_result"
    }
   ],
   "source": [
    "#To get top 5  records\n",
    "df.head( )\n"
   ]
  },
  {
   "cell_type": "code",
   "execution_count": 5,
   "id": "211269a0",
   "metadata": {},
   "outputs": [
    {
     "data": {
      "text/html": [
       "<div>\n",
       "<style scoped>\n",
       "    .dataframe tbody tr th:only-of-type {\n",
       "        vertical-align: middle;\n",
       "    }\n",
       "\n",
       "    .dataframe tbody tr th {\n",
       "        vertical-align: top;\n",
       "    }\n",
       "\n",
       "    .dataframe thead th {\n",
       "        text-align: right;\n",
       "    }\n",
       "</style>\n",
       "<table border=\"1\" class=\"dataframe\">\n",
       "  <thead>\n",
       "    <tr style=\"text-align: right;\">\n",
       "      <th></th>\n",
       "      <th>userid</th>\n",
       "      <th>card_no</th>\n",
       "      <th>card_bin_no</th>\n",
       "      <th>Issuer</th>\n",
       "      <th>card_type</th>\n",
       "      <th>card_source_date</th>\n",
       "      <th>high_networth</th>\n",
       "      <th>active_30</th>\n",
       "      <th>active_60</th>\n",
       "      <th>active_90</th>\n",
       "      <th>...</th>\n",
       "      <th>bank_vintage</th>\n",
       "      <th>T+1_month_activity</th>\n",
       "      <th>T+2_month_activity</th>\n",
       "      <th>T+3_month_activity</th>\n",
       "      <th>T+6_month_activity</th>\n",
       "      <th>T+12_month_activity</th>\n",
       "      <th>Transactor_revolver</th>\n",
       "      <th>avg_spends_l3m</th>\n",
       "      <th>Occupation_at_source</th>\n",
       "      <th>cc_limit</th>\n",
       "    </tr>\n",
       "  </thead>\n",
       "  <tbody>\n",
       "    <tr>\n",
       "      <th>8443</th>\n",
       "      <td>8444</td>\n",
       "      <td>4262 41XX XXXX XXXX</td>\n",
       "      <td>426241</td>\n",
       "      <td>Visa</td>\n",
       "      <td>chartered</td>\n",
       "      <td>2010-01-10</td>\n",
       "      <td>A</td>\n",
       "      <td>1</td>\n",
       "      <td>1</td>\n",
       "      <td>1</td>\n",
       "      <td>...</td>\n",
       "      <td>47</td>\n",
       "      <td>0</td>\n",
       "      <td>0</td>\n",
       "      <td>0</td>\n",
       "      <td>0</td>\n",
       "      <td>0</td>\n",
       "      <td>T</td>\n",
       "      <td>108713</td>\n",
       "      <td>0</td>\n",
       "      <td>970000</td>\n",
       "    </tr>\n",
       "    <tr>\n",
       "      <th>8444</th>\n",
       "      <td>8445</td>\n",
       "      <td>37691 6XXXX XXXXX</td>\n",
       "      <td>376916</td>\n",
       "      <td>Amex</td>\n",
       "      <td>centurion</td>\n",
       "      <td>2006-07-19</td>\n",
       "      <td>A</td>\n",
       "      <td>0</td>\n",
       "      <td>1</td>\n",
       "      <td>1</td>\n",
       "      <td>...</td>\n",
       "      <td>52</td>\n",
       "      <td>0</td>\n",
       "      <td>0</td>\n",
       "      <td>0</td>\n",
       "      <td>0</td>\n",
       "      <td>0</td>\n",
       "      <td>T</td>\n",
       "      <td>42369</td>\n",
       "      <td>Salaried</td>\n",
       "      <td>200000</td>\n",
       "    </tr>\n",
       "    <tr>\n",
       "      <th>8445</th>\n",
       "      <td>8446</td>\n",
       "      <td>4375 51XX XXXX XXXX</td>\n",
       "      <td>437551</td>\n",
       "      <td>Visa</td>\n",
       "      <td>rewards</td>\n",
       "      <td>2006-02-15</td>\n",
       "      <td>D</td>\n",
       "      <td>0</td>\n",
       "      <td>1</td>\n",
       "      <td>1</td>\n",
       "      <td>...</td>\n",
       "      <td>36</td>\n",
       "      <td>0</td>\n",
       "      <td>0</td>\n",
       "      <td>0</td>\n",
       "      <td>0</td>\n",
       "      <td>0</td>\n",
       "      <td>T</td>\n",
       "      <td>8459</td>\n",
       "      <td>Retired</td>\n",
       "      <td>90000</td>\n",
       "    </tr>\n",
       "    <tr>\n",
       "      <th>8446</th>\n",
       "      <td>8447</td>\n",
       "      <td>4477 47XX XXXX XXXX</td>\n",
       "      <td>447747</td>\n",
       "      <td>Visa</td>\n",
       "      <td>indianoil</td>\n",
       "      <td>2003-11-06</td>\n",
       "      <td>C</td>\n",
       "      <td>0</td>\n",
       "      <td>0</td>\n",
       "      <td>0</td>\n",
       "      <td>...</td>\n",
       "      <td>54</td>\n",
       "      <td>1</td>\n",
       "      <td>0</td>\n",
       "      <td>0</td>\n",
       "      <td>0</td>\n",
       "      <td>0</td>\n",
       "      <td>T</td>\n",
       "      <td>57100</td>\n",
       "      <td>Salaried</td>\n",
       "      <td>210000</td>\n",
       "    </tr>\n",
       "    <tr>\n",
       "      <th>8447</th>\n",
       "      <td>8448</td>\n",
       "      <td>4262 41XX XXXX XXXX</td>\n",
       "      <td>426241</td>\n",
       "      <td>Visa</td>\n",
       "      <td>rewards</td>\n",
       "      <td>2013-01-13</td>\n",
       "      <td>D</td>\n",
       "      <td>0</td>\n",
       "      <td>1</td>\n",
       "      <td>1</td>\n",
       "      <td>...</td>\n",
       "      <td>37</td>\n",
       "      <td>0</td>\n",
       "      <td>0</td>\n",
       "      <td>0</td>\n",
       "      <td>0</td>\n",
       "      <td>0</td>\n",
       "      <td>T</td>\n",
       "      <td>45244</td>\n",
       "      <td>Retired</td>\n",
       "      <td>130000</td>\n",
       "    </tr>\n",
       "  </tbody>\n",
       "</table>\n",
       "<p>5 rows × 28 columns</p>\n",
       "</div>"
      ],
      "text/plain": [
       "      userid              card_no  card_bin_no Issuer  card_type  \\\n",
       "8443    8444  4262 41XX XXXX XXXX       426241   Visa  chartered   \n",
       "8444    8445    37691 6XXXX XXXXX       376916   Amex  centurion   \n",
       "8445    8446  4375 51XX XXXX XXXX       437551   Visa    rewards   \n",
       "8446    8447  4477 47XX XXXX XXXX       447747   Visa  indianoil   \n",
       "8447    8448  4262 41XX XXXX XXXX       426241   Visa    rewards   \n",
       "\n",
       "     card_source_date high_networth  active_30  active_60  active_90  ...  \\\n",
       "8443       2010-01-10             A          1          1          1  ...   \n",
       "8444       2006-07-19             A          0          1          1  ...   \n",
       "8445       2006-02-15             D          0          1          1  ...   \n",
       "8446       2003-11-06             C          0          0          0  ...   \n",
       "8447       2013-01-13             D          0          1          1  ...   \n",
       "\n",
       "      bank_vintage  T+1_month_activity  T+2_month_activity T+3_month_activity  \\\n",
       "8443            47                   0                   0                  0   \n",
       "8444            52                   0                   0                  0   \n",
       "8445            36                   0                   0                  0   \n",
       "8446            54                   1                   0                  0   \n",
       "8447            37                   0                   0                  0   \n",
       "\n",
       "      T+6_month_activity  T+12_month_activity  Transactor_revolver  \\\n",
       "8443                   0                    0                    T   \n",
       "8444                   0                    0                    T   \n",
       "8445                   0                    0                    T   \n",
       "8446                   0                    0                    T   \n",
       "8447                   0                    0                    T   \n",
       "\n",
       "     avg_spends_l3m  Occupation_at_source  cc_limit  \n",
       "8443         108713                     0    970000  \n",
       "8444          42369              Salaried    200000  \n",
       "8445           8459               Retired     90000  \n",
       "8446          57100              Salaried    210000  \n",
       "8447          45244               Retired    130000  \n",
       "\n",
       "[5 rows x 28 columns]"
      ]
     },
     "execution_count": 5,
     "metadata": {},
     "output_type": "execute_result"
    }
   ],
   "source": [
    "#To get bottom 5  records\n",
    "df.tail( )\n"
   ]
  },
  {
   "cell_type": "code",
   "execution_count": 6,
   "id": "24b2b57f",
   "metadata": {},
   "outputs": [
    {
     "data": {
      "text/html": [
       "<div>\n",
       "<style scoped>\n",
       "    .dataframe tbody tr th:only-of-type {\n",
       "        vertical-align: middle;\n",
       "    }\n",
       "\n",
       "    .dataframe tbody tr th {\n",
       "        vertical-align: top;\n",
       "    }\n",
       "\n",
       "    .dataframe thead th {\n",
       "        text-align: right;\n",
       "    }\n",
       "</style>\n",
       "<table border=\"1\" class=\"dataframe\">\n",
       "  <thead>\n",
       "    <tr style=\"text-align: right;\">\n",
       "      <th></th>\n",
       "      <th>card_no</th>\n",
       "      <th>card_bin_no</th>\n",
       "      <th>Issuer</th>\n",
       "      <th>card_type</th>\n",
       "      <th>card_source_date</th>\n",
       "      <th>high_networth</th>\n",
       "      <th>active_30</th>\n",
       "      <th>active_60</th>\n",
       "      <th>active_90</th>\n",
       "      <th>cc_active30</th>\n",
       "      <th>...</th>\n",
       "      <th>bank_vintage</th>\n",
       "      <th>T+1_month_activity</th>\n",
       "      <th>T+2_month_activity</th>\n",
       "      <th>T+3_month_activity</th>\n",
       "      <th>T+6_month_activity</th>\n",
       "      <th>T+12_month_activity</th>\n",
       "      <th>Transactor_revolver</th>\n",
       "      <th>avg_spends_l3m</th>\n",
       "      <th>Occupation_at_source</th>\n",
       "      <th>cc_limit</th>\n",
       "    </tr>\n",
       "  </thead>\n",
       "  <tbody>\n",
       "    <tr>\n",
       "      <th>0</th>\n",
       "      <td>4384 39XX XXXX XXXX</td>\n",
       "      <td>438439</td>\n",
       "      <td>Visa</td>\n",
       "      <td>edge</td>\n",
       "      <td>2019-09-29</td>\n",
       "      <td>B</td>\n",
       "      <td>0</td>\n",
       "      <td>1</td>\n",
       "      <td>1</td>\n",
       "      <td>0</td>\n",
       "      <td>...</td>\n",
       "      <td>27</td>\n",
       "      <td>0</td>\n",
       "      <td>0</td>\n",
       "      <td>0</td>\n",
       "      <td>0</td>\n",
       "      <td>0</td>\n",
       "      <td>T</td>\n",
       "      <td>27729</td>\n",
       "      <td>Self Employed</td>\n",
       "      <td>290000</td>\n",
       "    </tr>\n",
       "    <tr>\n",
       "      <th>1</th>\n",
       "      <td>4377 48XX XXXX XXXX</td>\n",
       "      <td>437748</td>\n",
       "      <td>Visa</td>\n",
       "      <td>prosperity</td>\n",
       "      <td>2002-10-30</td>\n",
       "      <td>A</td>\n",
       "      <td>1</td>\n",
       "      <td>1</td>\n",
       "      <td>1</td>\n",
       "      <td>0</td>\n",
       "      <td>...</td>\n",
       "      <td>52</td>\n",
       "      <td>0</td>\n",
       "      <td>0</td>\n",
       "      <td>0</td>\n",
       "      <td>0</td>\n",
       "      <td>0</td>\n",
       "      <td>R</td>\n",
       "      <td>280854</td>\n",
       "      <td>0</td>\n",
       "      <td>950000</td>\n",
       "    </tr>\n",
       "    <tr>\n",
       "      <th>2</th>\n",
       "      <td>4377 48XX XXXX XXXX</td>\n",
       "      <td>437748</td>\n",
       "      <td>Visa</td>\n",
       "      <td>rewards</td>\n",
       "      <td>2013-10-05</td>\n",
       "      <td>C</td>\n",
       "      <td>0</td>\n",
       "      <td>0</td>\n",
       "      <td>0</td>\n",
       "      <td>0</td>\n",
       "      <td>...</td>\n",
       "      <td>23</td>\n",
       "      <td>1</td>\n",
       "      <td>0</td>\n",
       "      <td>0</td>\n",
       "      <td>0</td>\n",
       "      <td>0</td>\n",
       "      <td>R</td>\n",
       "      <td>70587</td>\n",
       "      <td>Student</td>\n",
       "      <td>210000</td>\n",
       "    </tr>\n",
       "    <tr>\n",
       "      <th>3</th>\n",
       "      <td>4258 06XX XXXX XXXX</td>\n",
       "      <td>425806</td>\n",
       "      <td>Visa</td>\n",
       "      <td>indianoil</td>\n",
       "      <td>1999-06-01</td>\n",
       "      <td>E</td>\n",
       "      <td>0</td>\n",
       "      <td>1</td>\n",
       "      <td>1</td>\n",
       "      <td>1</td>\n",
       "      <td>...</td>\n",
       "      <td>49</td>\n",
       "      <td>0</td>\n",
       "      <td>0</td>\n",
       "      <td>1</td>\n",
       "      <td>0</td>\n",
       "      <td>0</td>\n",
       "      <td>T</td>\n",
       "      <td>9156</td>\n",
       "      <td>Self Employed</td>\n",
       "      <td>80000</td>\n",
       "    </tr>\n",
       "    <tr>\n",
       "      <th>4</th>\n",
       "      <td>4377 48XX XXXX XXXX</td>\n",
       "      <td>437748</td>\n",
       "      <td>Visa</td>\n",
       "      <td>edge</td>\n",
       "      <td>2006-06-13</td>\n",
       "      <td>B</td>\n",
       "      <td>1</td>\n",
       "      <td>1</td>\n",
       "      <td>1</td>\n",
       "      <td>0</td>\n",
       "      <td>...</td>\n",
       "      <td>21</td>\n",
       "      <td>1</td>\n",
       "      <td>0</td>\n",
       "      <td>0</td>\n",
       "      <td>0</td>\n",
       "      <td>0</td>\n",
       "      <td>T</td>\n",
       "      <td>38108</td>\n",
       "      <td>Salaried</td>\n",
       "      <td>220000</td>\n",
       "    </tr>\n",
       "  </tbody>\n",
       "</table>\n",
       "<p>5 rows × 27 columns</p>\n",
       "</div>"
      ],
      "text/plain": [
       "               card_no  card_bin_no Issuer   card_type card_source_date  \\\n",
       "0  4384 39XX XXXX XXXX       438439   Visa        edge       2019-09-29   \n",
       "1  4377 48XX XXXX XXXX       437748   Visa  prosperity       2002-10-30   \n",
       "2  4377 48XX XXXX XXXX       437748   Visa     rewards       2013-10-05   \n",
       "3  4258 06XX XXXX XXXX       425806   Visa   indianoil       1999-06-01   \n",
       "4  4377 48XX XXXX XXXX       437748   Visa        edge       2006-06-13   \n",
       "\n",
       "  high_networth  active_30  active_60  active_90  cc_active30  ...  \\\n",
       "0             B          0          1          1            0  ...   \n",
       "1             A          1          1          1            0  ...   \n",
       "2             C          0          0          0            0  ...   \n",
       "3             E          0          1          1            1  ...   \n",
       "4             B          1          1          1            0  ...   \n",
       "\n",
       "   bank_vintage  T+1_month_activity T+2_month_activity  T+3_month_activity  \\\n",
       "0            27                   0                  0                   0   \n",
       "1            52                   0                  0                   0   \n",
       "2            23                   1                  0                   0   \n",
       "3            49                   0                  0                   1   \n",
       "4            21                   1                  0                   0   \n",
       "\n",
       "   T+6_month_activity  T+12_month_activity Transactor_revolver  \\\n",
       "0                   0                    0                   T   \n",
       "1                   0                    0                   R   \n",
       "2                   0                    0                   R   \n",
       "3                   0                    0                   T   \n",
       "4                   0                    0                   T   \n",
       "\n",
       "   avg_spends_l3m  Occupation_at_source  cc_limit  \n",
       "0           27729         Self Employed    290000  \n",
       "1          280854                     0    950000  \n",
       "2           70587               Student    210000  \n",
       "3            9156         Self Employed     80000  \n",
       "4           38108              Salaried    220000  \n",
       "\n",
       "[5 rows x 27 columns]"
      ]
     },
     "execution_count": 6,
     "metadata": {},
     "output_type": "execute_result"
    }
   ],
   "source": [
    "#userid doesnot have any relevance thus it should be dropped\n",
    "df.drop(['userid'],axis=1, inplace=True)\n",
    "df.head()"
   ]
  },
  {
   "cell_type": "code",
   "execution_count": 7,
   "id": "13de53ab",
   "metadata": {},
   "outputs": [
    {
     "name": "stdout",
     "output_type": "stream",
     "text": [
      "no. of rows:  8448 \n",
      "no. of columns:  27\n"
     ]
    }
   ],
   "source": [
    "print(\"no. of rows: \",df.shape[0], \"\\n\"\"no. of columns: \",df.shape[1])"
   ]
  },
  {
   "cell_type": "code",
   "execution_count": 8,
   "id": "643d3a23",
   "metadata": {},
   "outputs": [
    {
     "name": "stdout",
     "output_type": "stream",
     "text": [
      "<class 'pandas.core.frame.DataFrame'>\n",
      "RangeIndex: 8448 entries, 0 to 8447\n",
      "Data columns (total 27 columns):\n",
      " #   Column                   Non-Null Count  Dtype         \n",
      "---  ------                   --------------  -----         \n",
      " 0   card_no                  8448 non-null   object        \n",
      " 1   card_bin_no              8448 non-null   int64         \n",
      " 2   Issuer                   8448 non-null   object        \n",
      " 3   card_type                8448 non-null   object        \n",
      " 4   card_source_date         8448 non-null   datetime64[ns]\n",
      " 5   high_networth            8448 non-null   object        \n",
      " 6   active_30                8448 non-null   int64         \n",
      " 7   active_60                8448 non-null   int64         \n",
      " 8   active_90                8448 non-null   int64         \n",
      " 9   cc_active30              8448 non-null   int64         \n",
      " 10  cc_active60              8448 non-null   int64         \n",
      " 11  cc_active90              8448 non-null   int64         \n",
      " 12  hotlist_flag             8448 non-null   object        \n",
      " 13  widget_products          8448 non-null   int64         \n",
      " 14  engagement_products      8448 non-null   int64         \n",
      " 15  annual_income_at_source  8448 non-null   int64         \n",
      " 16  other_bank_cc_holding    8448 non-null   object        \n",
      " 17  bank_vintage             8448 non-null   int64         \n",
      " 18  T+1_month_activity       8448 non-null   int64         \n",
      " 19  T+2_month_activity       8448 non-null   int64         \n",
      " 20  T+3_month_activity       8448 non-null   int64         \n",
      " 21  T+6_month_activity       8448 non-null   int64         \n",
      " 22  T+12_month_activity      8448 non-null   int64         \n",
      " 23  Transactor_revolver      8410 non-null   object        \n",
      " 24  avg_spends_l3m           8448 non-null   int64         \n",
      " 25  Occupation_at_source     8448 non-null   object        \n",
      " 26  cc_limit                 8448 non-null   int64         \n",
      "dtypes: datetime64[ns](1), int64(18), object(8)\n",
      "memory usage: 1.7+ MB\n"
     ]
    }
   ],
   "source": [
    "#Retreive the list of fields along with their data type\n",
    "df.info()"
   ]
  },
  {
   "cell_type": "markdown",
   "id": "91f5e69e",
   "metadata": {},
   "source": [
    "There are 28 variables out of which 19 are numeric, 8 are object and 1 is date and time variable"
   ]
  },
  {
   "cell_type": "code",
   "execution_count": 9,
   "id": "22233197",
   "metadata": {},
   "outputs": [
    {
     "name": "stdout",
     "output_type": "stream",
     "text": [
      "Missing values count:\n",
      "card_no                     0\n",
      "card_bin_no                 0\n",
      "Issuer                      0\n",
      "card_type                   0\n",
      "card_source_date            0\n",
      "high_networth               0\n",
      "active_30                   0\n",
      "active_60                   0\n",
      "active_90                   0\n",
      "cc_active30                 0\n",
      "cc_active60                 0\n",
      "cc_active90                 0\n",
      "hotlist_flag                0\n",
      "widget_products             0\n",
      "engagement_products         0\n",
      "annual_income_at_source     0\n",
      "other_bank_cc_holding       0\n",
      "bank_vintage                0\n",
      "T+1_month_activity          0\n",
      "T+2_month_activity          0\n",
      "T+3_month_activity          0\n",
      "T+6_month_activity          0\n",
      "T+12_month_activity         0\n",
      "Transactor_revolver        38\n",
      "avg_spends_l3m              0\n",
      "Occupation_at_source        0\n",
      "cc_limit                    0\n",
      "dtype: int64\n"
     ]
    }
   ],
   "source": [
    "# Find missing values in each column\n",
    "missing_values = df.isnull().sum()\n",
    "\n",
    "# Print missing values count\n",
    "print(\"Missing values count:\")\n",
    "print(missing_values)"
   ]
  },
  {
   "cell_type": "markdown",
   "id": "52536e2d",
   "metadata": {},
   "source": [
    "Missing values count in 'Transactor_revolver' column: 38\n",
    "Total non-null values in 'Transactor_revolver' column: 8410"
   ]
  },
  {
   "cell_type": "code",
   "execution_count": 10,
   "id": "9231cae0",
   "metadata": {},
   "outputs": [
    {
     "name": "stdout",
     "output_type": "stream",
     "text": [
      "0    T\n",
      "Name: Transactor_revolver, dtype: object\n"
     ]
    }
   ],
   "source": [
    "# Find the mode of 'Transactor_revolver'\n",
    "transactor_revolver_mode = df['Transactor_revolver'].mode()\n",
    "\n",
    "# Print the mode\n",
    "print(transactor_revolver_mode)"
   ]
  },
  {
   "cell_type": "code",
   "execution_count": 11,
   "id": "e398a468",
   "metadata": {},
   "outputs": [],
   "source": [
    "# Replace missing values with 'T' in the 'Transactor_revolver' column\n",
    "df['Transactor_revolver'] = df['Transactor_revolver'].fillna('T')"
   ]
  },
  {
   "cell_type": "code",
   "execution_count": 12,
   "id": "b34c5395",
   "metadata": {},
   "outputs": [
    {
     "name": "stdout",
     "output_type": "stream",
     "text": [
      "Missing values count:\n",
      "card_no                    0\n",
      "card_bin_no                0\n",
      "Issuer                     0\n",
      "card_type                  0\n",
      "card_source_date           0\n",
      "high_networth              0\n",
      "active_30                  0\n",
      "active_60                  0\n",
      "active_90                  0\n",
      "cc_active30                0\n",
      "cc_active60                0\n",
      "cc_active90                0\n",
      "hotlist_flag               0\n",
      "widget_products            0\n",
      "engagement_products        0\n",
      "annual_income_at_source    0\n",
      "other_bank_cc_holding      0\n",
      "bank_vintage               0\n",
      "T+1_month_activity         0\n",
      "T+2_month_activity         0\n",
      "T+3_month_activity         0\n",
      "T+6_month_activity         0\n",
      "T+12_month_activity        0\n",
      "Transactor_revolver        0\n",
      "avg_spends_l3m             0\n",
      "Occupation_at_source       0\n",
      "cc_limit                   0\n",
      "dtype: int64\n"
     ]
    }
   ],
   "source": [
    "# Find missing values in each column\n",
    "missing_values = df.isnull().sum()\n",
    "\n",
    "# Print missing values count\n",
    "print(\"Missing values count:\")\n",
    "print(missing_values)"
   ]
  },
  {
   "cell_type": "code",
   "execution_count": 13,
   "id": "5de98417",
   "metadata": {},
   "outputs": [
    {
     "name": "stdout",
     "output_type": "stream",
     "text": [
      "Value counts of 'card_no':\n",
      "4262 41XX XXXX XXXX    2084\n",
      "4258 06XX XXXX XXXX    1228\n",
      "4377 48XX XXXX XXXX    1045\n",
      "4386 28XX XXXX XXXX    1005\n",
      "4375 51XX XXXX XXXX     854\n",
      "5241 78XX XXXX XXXX     728\n",
      "4384 39XX XXXX XXXX     489\n",
      "4055 33XX XXXX XXXX     301\n",
      "37694 5XXXX XXXXX       279\n",
      "4477 47XX XXXX XXXX     273\n",
      "37691 6XXXX XXXXX       162\n",
      "Name: card_no, dtype: int64\n"
     ]
    }
   ],
   "source": [
    "1.#Unique bank customer id\n",
    "card_no_counts = df['card_no'].value_counts()\n",
    "print(\"Value counts of 'card_no':\")\n",
    "print(card_no_counts)"
   ]
  },
  {
   "cell_type": "code",
   "execution_count": 14,
   "id": "3bf8e10e",
   "metadata": {},
   "outputs": [
    {
     "name": "stdout",
     "output_type": "stream",
     "text": [
      "Value counts of 'card_bin_no':\n",
      "426241    2084\n",
      "425806    1228\n",
      "437748    1045\n",
      "438628    1005\n",
      "437551     854\n",
      "524178     728\n",
      "438439     489\n",
      "405533     301\n",
      "376945     279\n",
      "447747     273\n",
      "376916     162\n",
      "Name: card_bin_no, dtype: int64\n"
     ]
    }
   ],
   "source": [
    "2.#Masked credit card number\n",
    "card_bin_no_counts = df['card_bin_no'].value_counts()\n",
    "print(\"Value counts of 'card_bin_no':\")\n",
    "print(card_bin_no_counts)"
   ]
  },
  {
   "cell_type": "code",
   "execution_count": 15,
   "id": "fafa710c",
   "metadata": {},
   "outputs": [
    {
     "name": "stdout",
     "output_type": "stream",
     "text": [
      "Value counts of 'Issuer':\n",
      "Visa          7279\n",
      "Mastercard     728\n",
      "Amex           441\n",
      "Name: Issuer, dtype: int64\n"
     ]
    }
   ],
   "source": [
    "3.#Card network issuer\n",
    "issuer_counts = df['Issuer'].value_counts()\n",
    "print(\"Value counts of 'Issuer':\")\n",
    "print(issuer_counts)"
   ]
  },
  {
   "cell_type": "code",
   "execution_count": 16,
   "id": "7d382d0b",
   "metadata": {},
   "outputs": [
    {
     "name": "stdout",
     "output_type": "stream",
     "text": [
      "Value counts of 'card_type':\n",
      "rewards       1502\n",
      "prosperity    1007\n",
      "edge           980\n",
      "chartered      923\n",
      "smartearn      765\n",
      "shoprite       688\n",
      "indianoil      680\n",
      "cashback       676\n",
      "aura           652\n",
      "gold           145\n",
      "prime          112\n",
      "pulse          101\n",
      "elite           96\n",
      "centurion       62\n",
      "platinum        59\n",
      "Name: card_type, dtype: int64\n"
     ]
    }
   ],
   "source": [
    "6.#Credit card type\n",
    "card_type_counts = df['card_type'].value_counts()\n",
    "print(\"Value counts of 'card_type':\")\n",
    "print(card_type_counts)"
   ]
  },
  {
   "cell_type": "code",
   "execution_count": 17,
   "id": "6fafb99b",
   "metadata": {},
   "outputs": [],
   "source": [
    "# 7.#Credit card sourcing date\n",
    "# Convert the datetime column to datetime data type\n",
    "datetime_column = 'card_source_date'  # Replace with your actual datetime column name\n",
    "df[datetime_column] = pd.to_datetime(df[datetime_column])"
   ]
  },
  {
   "cell_type": "code",
   "execution_count": 18,
   "id": "67bec0b8",
   "metadata": {
    "scrolled": true
   },
   "outputs": [
    {
     "name": "stdout",
     "output_type": "stream",
     "text": [
      "Total count for each year in 'card_source_date':\n",
      "1998    159\n",
      "1999    393\n",
      "2000    392\n",
      "2001    402\n",
      "2002    393\n",
      "2003    367\n",
      "2004    407\n",
      "2005    375\n",
      "2006    395\n",
      "2007    379\n",
      "2008    420\n",
      "2009    360\n",
      "2010    397\n",
      "2011    374\n",
      "2012    379\n",
      "2013    396\n",
      "2014    386\n",
      "2015    365\n",
      "2016    388\n",
      "2017    381\n",
      "2018    335\n",
      "2019    412\n",
      "2020    193\n",
      "Name: year, dtype: int64\n"
     ]
    }
   ],
   "source": [
    "# Extract the year from the datetime column\n",
    "df['year'] = df[datetime_column].dt.year\n",
    "\n",
    "# Find total count of occurrences for each year in 'card_source_date'\n",
    "year_counts = df['year'].value_counts()\n",
    "\n",
    "# Sort the counts by year in ascending order\n",
    "year_counts = year_counts.sort_index()\n",
    "\n",
    "# Display the total count for each year\n",
    "print(\"Total count for each year in 'card_source_date':\")\n",
    "print(year_counts)"
   ]
  },
  {
   "cell_type": "code",
   "execution_count": 19,
   "id": "f73cc4e6",
   "metadata": {},
   "outputs": [
    {
     "name": "stdout",
     "output_type": "stream",
     "text": [
      "Value counts of 'active_30':\n",
      "0    5978\n",
      "1    2470\n",
      "Name: active_30, dtype: int64\n"
     ]
    }
   ],
   "source": [
    "#Savings/Current/Salary etc account activity in last 30 days\n",
    "\n",
    "active_30_counts = df['active_30'].value_counts()\n",
    "print(\"Value counts of 'active_30':\")\n",
    "print(active_30_counts)"
   ]
  },
  {
   "cell_type": "code",
   "execution_count": 20,
   "id": "3e9e3b44",
   "metadata": {},
   "outputs": [
    {
     "name": "stdout",
     "output_type": "stream",
     "text": [
      "Value counts of 'active_60':\n",
      "0    4268\n",
      "1    4180\n",
      "Name: active_60, dtype: int64\n"
     ]
    }
   ],
   "source": [
    "#Savings/Current/Salary etc account activity in last 60 day\n",
    "active_60_counts = df['active_60'].value_counts()\n",
    "print(\"Value counts of 'active_60':\")\n",
    "print(active_60_counts)"
   ]
  },
  {
   "cell_type": "code",
   "execution_count": 21,
   "id": "c5946982",
   "metadata": {},
   "outputs": [
    {
     "name": "stdout",
     "output_type": "stream",
     "text": [
      "Value counts of 'active_90':\n",
      "1    5424\n",
      "0    3024\n",
      "Name: active_90, dtype: int64\n"
     ]
    }
   ],
   "source": [
    "#Savings/Current/Salary etc account activity in last 90 day\n",
    "active_90_counts = df['active_90'].value_counts()\n",
    "print(\"Value counts of 'active_90':\")\n",
    "print(active_90_counts)"
   ]
  },
  {
   "cell_type": "code",
   "execution_count": 22,
   "id": "e8d1a63e",
   "metadata": {},
   "outputs": [
    {
     "name": "stdout",
     "output_type": "stream",
     "text": [
      "Value counts of 'cc_active60':\n",
      "0    4355\n",
      "1    4093\n",
      "Name: cc_active60, dtype: int64\n"
     ]
    }
   ],
   "source": [
    "#CC activity in last 60 day\n",
    "cc_active60_counts = df['cc_active60'].value_counts()\n",
    "print(\"Value counts of 'cc_active60':\")\n",
    "print(cc_active60_counts)"
   ]
  },
  {
   "cell_type": "code",
   "execution_count": 23,
   "id": "df8a440f",
   "metadata": {},
   "outputs": [
    {
     "name": "stdout",
     "output_type": "stream",
     "text": [
      "Value counts of 'cc_active90':\n",
      "1    5342\n",
      "0    3106\n",
      "Name: cc_active90, dtype: int64\n"
     ]
    }
   ],
   "source": [
    "#CC activity in last 90 days\n",
    "cc_active90_counts = df['cc_active90'].value_counts()\n",
    "print(\"Value counts of 'cc_active90':\")\n",
    "print(cc_active90_counts)"
   ]
  },
  {
   "cell_type": "code",
   "execution_count": 24,
   "id": "40ca9394",
   "metadata": {},
   "outputs": [
    {
     "name": "stdout",
     "output_type": "stream",
     "text": [
      "Value counts of 'hotlist_flag':\n",
      "N    8410\n",
      "Y      38\n",
      "Name: hotlist_flag, dtype: int64\n"
     ]
    }
   ],
   "source": [
    "#Whether card is hotlisted\n",
    "hotlist_flag_counts = df['hotlist_flag'].value_counts()\n",
    "print(\"Value counts of 'hotlist_flag':\")\n",
    "print(hotlist_flag_counts)"
   ]
  },
  {
   "cell_type": "code",
   "execution_count": 55,
   "id": "da8a8a57",
   "metadata": {},
   "outputs": [
    {
     "name": "stdout",
     "output_type": "stream",
     "text": [
      "Value counts of 'engagement_products':\n",
      "4    1010\n",
      "3     966\n",
      "1     950\n",
      "8     949\n",
      "5     940\n",
      "0     939\n",
      "6     926\n",
      "7     889\n",
      "2     879\n",
      "Name: engagement_products, dtype: int64\n"
     ]
    }
   ],
   "source": [
    "engagement_products=df['engagement_products'].value_counts()\n",
    "print(\"Value counts of 'engagement_products':\")\n",
    "print(engagement_products)"
   ]
  },
  {
   "cell_type": "code",
   "execution_count": 26,
   "id": "7ab2f009",
   "metadata": {},
   "outputs": [
    {
     "name": "stdout",
     "output_type": "stream",
     "text": [
      "Value counts of 'widget_products':\n",
      "7    1132\n",
      "4    1117\n",
      "5    1115\n",
      "6    1062\n",
      "3    1060\n",
      "2    1010\n",
      "1     997\n",
      "0     955\n",
      "Name: widget_products, dtype: int64\n"
     ]
    }
   ],
   "source": [
    "#Number of convenient product customer holds (dc, cc, netbanking active, mobile banking active, wallet active etc)\n",
    "widget_products_counts = df['widget_products'].value_counts()\n",
    "print(\"Value counts of 'widget_products':\")\n",
    "print(widget_products_counts)"
   ]
  },
  {
   "cell_type": "code",
   "execution_count": 27,
   "id": "81182d5a",
   "metadata": {},
   "outputs": [
    {
     "name": "stdout",
     "output_type": "stream",
     "text": [
      "Value counts of 'engagement_products':\n",
      "4    1010\n",
      "3     966\n",
      "1     950\n",
      "8     949\n",
      "5     940\n",
      "0     939\n",
      "6     926\n",
      "7     889\n",
      "2     879\n",
      "Name: engagement_products, dtype: int64\n"
     ]
    }
   ],
   "source": [
    "# Count occurrences of each unique value in the 'engagement_products' column\n",
    "engagement_products_counts = df['engagement_products'].value_counts()\n",
    "\n",
    "# Display the count results\n",
    "print(\"Value counts of 'engagement_products':\")\n",
    "print(engagement_products_counts)"
   ]
  },
  {
   "cell_type": "code",
   "execution_count": 57,
   "id": "1c4b648f",
   "metadata": {},
   "outputs": [
    {
     "name": "stdout",
     "output_type": "stream",
     "text": [
      "Value counts of 'other_bank_cc_holding':\n",
      "Y    4728\n",
      "N    3720\n",
      "Name: other_bank_cc_holding, dtype: int64\n"
     ]
    }
   ],
   "source": [
    "other_bank_cc_holding_counts = df['other_bank_cc_holding'].value_counts()\n",
    "print(\"Value counts of 'other_bank_cc_holding':\")\n",
    "print(other_bank_cc_holding_counts)"
   ]
  },
  {
   "cell_type": "code",
   "execution_count": 28,
   "id": "d541a49c",
   "metadata": {},
   "outputs": [
    {
     "name": "stdout",
     "output_type": "stream",
     "text": [
      "Value counts of 'annual_income_at_source':\n",
      "1206050    2\n",
      "1470369    2\n",
      "1413978    2\n",
      "1377713    2\n",
      "1301211    2\n",
      "          ..\n",
      "323506     1\n",
      "1449399    1\n",
      "1200604    1\n",
      "1304227    1\n",
      "1329756    1\n",
      "Name: annual_income_at_source, Length: 8435, dtype: int64\n"
     ]
    }
   ],
   "source": [
    "#Annual income recoreded in credit card application\n",
    "annual_income_counts = df['annual_income_at_source'].value_counts()\n",
    "print(\"Value counts of 'annual_income_at_source':\")\n",
    "print(annual_income_counts)"
   ]
  },
  {
   "cell_type": "code",
   "execution_count": 29,
   "id": "27c135df",
   "metadata": {},
   "outputs": [
    {
     "name": "stdout",
     "output_type": "stream",
     "text": [
      "Value counts of 'other_bank_cc_holding':\n",
      "Y    4728\n",
      "N    3720\n",
      "Name: other_bank_cc_holding, dtype: int64\n"
     ]
    }
   ],
   "source": [
    "#Hold other bank credit card\n",
    "other_bank_cc_counts = df['other_bank_cc_holding'].value_counts()\n",
    "print(\"Value counts of 'other_bank_cc_holding':\")\n",
    "print(other_bank_cc_counts)"
   ]
  },
  {
   "cell_type": "code",
   "execution_count": 30,
   "id": "37649e2b",
   "metadata": {},
   "outputs": [
    {
     "name": "stdout",
     "output_type": "stream",
     "text": [
      "Value counts of 'bank_vintage':\n",
      "57    173\n",
      "37    170\n",
      "36    170\n",
      "56    168\n",
      "40    166\n",
      "32    165\n",
      "46    165\n",
      "14    164\n",
      "26    164\n",
      "21    163\n",
      "28    162\n",
      "39    162\n",
      "60    161\n",
      "47    161\n",
      "9     161\n",
      "49    161\n",
      "53    161\n",
      "17    159\n",
      "41    158\n",
      "27    157\n",
      "59    157\n",
      "35    157\n",
      "33    156\n",
      "11    155\n",
      "34    155\n",
      "51    155\n",
      "7     154\n",
      "19    154\n",
      "52    154\n",
      "12    154\n",
      "43    154\n",
      "44    153\n",
      "8     152\n",
      "38    152\n",
      "48    151\n",
      "45    151\n",
      "31    151\n",
      "58    151\n",
      "6     150\n",
      "18    150\n",
      "10    150\n",
      "13    149\n",
      "23    149\n",
      "25    145\n",
      "55    144\n",
      "22    144\n",
      "24    142\n",
      "29    142\n",
      "42    139\n",
      "30    138\n",
      "15    138\n",
      "50    137\n",
      "16    136\n",
      "20    134\n",
      "54    124\n",
      "Name: bank_vintage, dtype: int64\n"
     ]
    }
   ],
   "source": [
    "#Vintage with the bank (in months) as on Tth month\n",
    "bank_vintage_counts = df['bank_vintage'].value_counts()\n",
    "print(\"Value counts of 'bank_vintage':\")\n",
    "print(bank_vintage_counts)"
   ]
  },
  {
   "cell_type": "code",
   "execution_count": 31,
   "id": "daaaeb10",
   "metadata": {},
   "outputs": [
    {
     "name": "stdout",
     "output_type": "stream",
     "text": [
      "Value counts of 'T+1_month_activity':\n",
      "0    7508\n",
      "1     940\n",
      "Name: T+1_month_activity, dtype: int64\n"
     ]
    }
   ],
   "source": [
    "#Customer spends next (T) month using credit card\n",
    "activity_counts = df['T+1_month_activity'].value_counts()\n",
    "print(\"Value counts of 'T+1_month_activity':\")\n",
    "print(activity_counts)"
   ]
  },
  {
   "cell_type": "code",
   "execution_count": 32,
   "id": "e545270f",
   "metadata": {},
   "outputs": [
    {
     "name": "stdout",
     "output_type": "stream",
     "text": [
      "Value counts of 'T+2_month_activity':\n",
      "0    8043\n",
      "1     405\n",
      "Name: T+2_month_activity, dtype: int64\n"
     ]
    }
   ],
   "source": [
    "#Customer spends in T+2 month using credit card\n",
    "activity_counts = df['T+2_month_activity'].value_counts()\n",
    "print(\"Value counts of 'T+2_month_activity':\")\n",
    "print(activity_counts)"
   ]
  },
  {
   "cell_type": "code",
   "execution_count": 33,
   "id": "42556d92",
   "metadata": {},
   "outputs": [
    {
     "name": "stdout",
     "output_type": "stream",
     "text": [
      "Value counts of 'T+3_month_activity':\n",
      "0    7769\n",
      "1     679\n",
      "Name: T+3_month_activity, dtype: int64\n"
     ]
    }
   ],
   "source": [
    "#Customer spends next month using credit card\n",
    "activity_counts = df['T+3_month_activity'].value_counts()\n",
    "print(\"Value counts of 'T+3_month_activity':\")\n",
    "print(activity_counts)"
   ]
  },
  {
   "cell_type": "code",
   "execution_count": 34,
   "id": "94924baa",
   "metadata": {},
   "outputs": [
    {
     "name": "stdout",
     "output_type": "stream",
     "text": [
      "Value counts of 'T+6_month_activity':\n",
      "0    8373\n",
      "1      75\n",
      "Name: T+6_month_activity, dtype: int64\n"
     ]
    }
   ],
   "source": [
    "#Customer spends next month using credit card\n",
    "activity_counts = df['T+6_month_activity'].value_counts()\n",
    "print(\"Value counts of 'T+6_month_activity':\")\n",
    "print(activity_counts)"
   ]
  },
  {
   "cell_type": "code",
   "execution_count": 35,
   "id": "cc559710",
   "metadata": {},
   "outputs": [
    {
     "name": "stdout",
     "output_type": "stream",
     "text": [
      "Value counts of 'T+12_month_activity':\n",
      "0    8368\n",
      "1      80\n",
      "Name: T+12_month_activity, dtype: int64\n"
     ]
    }
   ],
   "source": [
    "#Customer spends next month using credit card\n",
    "activity_counts = df['T+12_month_activity'].value_counts()\n",
    "print(\"Value counts of 'T+12_month_activity':\")\n",
    "print(activity_counts)"
   ]
  },
  {
   "cell_type": "code",
   "execution_count": 36,
   "id": "0421c0b8",
   "metadata": {},
   "outputs": [
    {
     "name": "stdout",
     "output_type": "stream",
     "text": [
      "Value counts of 'Transactor_revolver':\n",
      "T    7153\n",
      "R    1295\n",
      "Name: Transactor_revolver, dtype: int64\n"
     ]
    }
   ],
   "source": [
    "#Revolver: Customer who carries balances over from one month to the next. Transactor: Customer who pays off their balances in full every month.\n",
    "\n",
    "revolver_counts = df['Transactor_revolver'].value_counts()\n",
    "print(\"Value counts of 'Transactor_revolver':\")\n",
    "print(revolver_counts)"
   ]
  },
  {
   "cell_type": "code",
   "execution_count": 37,
   "id": "63842a29",
   "metadata": {},
   "outputs": [
    {
     "name": "stdout",
     "output_type": "stream",
     "text": [
      "Value counts of 'avg_spends_l3m':\n",
      "0        38\n",
      "39798     3\n",
      "2617      3\n",
      "64953     3\n",
      "4234      3\n",
      "         ..\n",
      "3845      1\n",
      "26864     1\n",
      "11975     1\n",
      "69983     1\n",
      "45244     1\n",
      "Name: avg_spends_l3m, Length: 8095, dtype: int64\n"
     ]
    }
   ],
   "source": [
    "#Average credit card spends in last 3 months\n",
    "spends_counts = df['avg_spends_l3m'].value_counts()\n",
    "print(\"Value counts of 'avg_spends_l3m':\")\n",
    "print(spends_counts)"
   ]
  },
  {
   "cell_type": "code",
   "execution_count": 38,
   "id": "47710d2d",
   "metadata": {},
   "outputs": [
    {
     "name": "stdout",
     "output_type": "stream",
     "text": [
      "Value counts of 'Occupation_at_source':\n",
      "Salaried         3918\n",
      "Self Employed    2175\n",
      "Retired          1089\n",
      "Student           621\n",
      "Housewife         384\n",
      "0                 261\n",
      "Name: Occupation_at_source, dtype: int64\n"
     ]
    }
   ],
   "source": [
    "#Occupation recorded at the time of credit card application\n",
    "\n",
    "occupation_counts = df['Occupation_at_source'].value_counts()\n",
    "print(\"Value counts of 'Occupation_at_source':\")\n",
    "print(occupation_counts)"
   ]
  },
  {
   "cell_type": "code",
   "execution_count": 39,
   "id": "41bda3dd",
   "metadata": {},
   "outputs": [
    {
     "name": "stdout",
     "output_type": "stream",
     "text": [
      "Mode of 'Occupation_at_source' (excluding 0):\n",
      "Salaried\n"
     ]
    }
   ],
   "source": [
    "mode_value = df['Occupation_at_source'][df['Occupation_at_source'] != 0].mode()[0]\n",
    "print(\"Mode of 'Occupation_at_source' (excluding 0):\")\n",
    "print(mode_value)"
   ]
  },
  {
   "cell_type": "code",
   "execution_count": 40,
   "id": "7f4b32cc",
   "metadata": {},
   "outputs": [
    {
     "name": "stdout",
     "output_type": "stream",
     "text": [
      "Value counts of 'Occupation_at_source':\n",
      "Salaried         4179\n",
      "Self Employed    2175\n",
      "Retired          1089\n",
      "Student           621\n",
      "Housewife         384\n",
      "Name: Occupation_at_source, dtype: int64\n"
     ]
    }
   ],
   "source": [
    "df['Occupation_at_source'].replace(0, 'Salaried', inplace=True)\n",
    "occupation_counts = df['Occupation_at_source'].value_counts()\n",
    "print(\"Value counts of 'Occupation_at_source':\")\n",
    "print(occupation_counts)"
   ]
  },
  {
   "cell_type": "code",
   "execution_count": 41,
   "id": "3802d668",
   "metadata": {},
   "outputs": [
    {
     "name": "stdout",
     "output_type": "stream",
     "text": [
      "Value counts of 'cc_limit':\n",
      "90000     458\n",
      "80000     427\n",
      "150000    406\n",
      "130000    373\n",
      "140000    372\n",
      "         ... \n",
      "990000     14\n",
      "730000     13\n",
      "500000     12\n",
      "780000     12\n",
      "0           1\n",
      "Name: cc_limit, Length: 99, dtype: int64\n"
     ]
    }
   ],
   "source": [
    "#Current credit card limit\n",
    "cc_limit_counts = df['cc_limit'].value_counts()\n",
    "print(\"Value counts of 'cc_limit':\")\n",
    "print(cc_limit_counts)"
   ]
  },
  {
   "cell_type": "code",
   "execution_count": 56,
   "id": "c6a3c27f",
   "metadata": {},
   "outputs": [
    {
     "data": {
      "image/png": "[encoded data removed]",
      "text/plain": [
       "<Figure size 640x480 with 1 Axes>"
      ]
     },
     "metadata": {},
     "output_type": "display_data"
    }
   ],
   "source": [
    "# Calculate the value counts of 'other_bank_cc_holding'\n",
    "other_bank_cc_counts = df['other_bank_cc_holding'].value_counts()\n",
    "\n",
    "# Create a bar plot\n",
    "plt.bar(other_bank_cc_counts.index, other_bank_cc_counts.values)\n",
    "\n",
    "# Set the labels and title\n",
    "plt.xlabel('Other Bank Credit Card Holding')\n",
    "plt.ylabel('Count')\n",
    "plt.title('Distribution of Other Bank Credit Card Holding')\n",
    "\n",
    "# Display the plot\n",
    "plt.show()"
   ]
  },
  {
   "cell_type": "code",
   "execution_count": 59,
   "id": "d5bd806d",
   "metadata": {},
   "outputs": [
    {
     "data": {
      "image/png": "[encoded data removed]",
      "text/plain": [
       "<Figure size 640x480 with 1 Axes>"
      ]
     },
     "metadata": {},
     "output_type": "display_data"
    }
   ],
   "source": [
    "# Create a histogram\n",
    "plt.hist(df['bank_vintage'], bins=10, edgecolor='black')\n",
    "\n",
    "# Set the labels and title\n",
    "plt.xlabel('Bank Vintage')\n",
    "plt.ylabel('Frequency')\n",
    "plt.title('Distribution of Bank Vintage')\n",
    "\n",
    "# Display the plot\n",
    "plt.show()"
   ]
  },
  {
   "cell_type": "code",
   "execution_count": 61,
   "id": "6fb8d9fa",
   "metadata": {},
   "outputs": [
    {
     "data": {
      "image/png": "[encoded data removed]",
      "text/plain": [
       "<Figure size 640x480 with 1 Axes>"
      ]
     },
     "metadata": {},
     "output_type": "display_data"
    }
   ],
   "source": [
    "# Calculate the value counts of 'Transactor_revolver'\n",
    "transactor_revolver_counts = df['Transactor_revolver'].value_counts()\n",
    "\n",
    "# Create a bar plot\n",
    "plt.bar(transactor_revolver_counts.index, transactor_revolver_counts.values)\n",
    "\n",
    "# Set the labels and title\n",
    "plt.xlabel('Transactor_revolver')\n",
    "plt.ylabel('Count')\n",
    "plt.title('Distribution of Transactor_revolver')\n",
    "\n",
    "# Display the plot\n",
    "plt.show()\n",
    "\n",
    "\n"
   ]
  },
  {
   "cell_type": "code",
   "execution_count": 64,
   "id": "e79434ea",
   "metadata": {},
   "outputs": [
    {
     "data": {
      "image/png": "[encoded data removed]",
      "text/plain": [
       "<Figure size 500x300 with 1 Axes>"
      ]
     },
     "metadata": {},
     "output_type": "display_data"
    }
   ],
   "source": [
    "# Calculate the value counts of 'Occupation_at_source'\n",
    "occupation_counts = df['Occupation_at_source'].value_counts()\n",
    "\n",
    "# Create a figure with reduced size\n",
    "plt.figure(figsize=(5, 3))\n",
    "\n",
    "# Create a bar plot\n",
    "plt.bar(occupation_counts.index, occupation_counts.values)\n",
    "\n",
    "# Set the labels and title\n",
    "plt.xlabel('Occupation')\n",
    "plt.ylabel('Count')\n",
    "plt.title('Distribution of Occupations')\n",
    "\n",
    "# Rotate x-axis labels if needed\n",
    "plt.xticks(rotation='vertical')\n",
    "\n",
    "# Display the plot\n",
    "plt.show()\n",
    "\n",
    "\n",
    "\n",
    "\n",
    "\n"
   ]
  },
  {
   "cell_type": "code",
   "execution_count": 65,
   "id": "b1cf725f",
   "metadata": {},
   "outputs": [
    {
     "data": {
      "image/png": "[encoded data removed]",
      "text/plain": [
       "<Figure size 640x480 with 1 Axes>"
      ]
     },
     "metadata": {},
     "output_type": "display_data"
    }
   ],
   "source": [
    "# Calculate the value counts of 'engagement_products'\n",
    "engagement_products_counts = df['engagement_products'].value_counts()\n",
    "\n",
    "# Create a bar plot\n",
    "plt.bar(engagement_products_counts.index, engagement_products_counts.values)\n",
    "\n",
    "# Set the labels and title\n",
    "plt.xlabel('Engagement Products')\n",
    "plt.ylabel('Count')\n",
    "plt.title('Distribution of Engagement Products')\n",
    "\n",
    "# Display the plot\n",
    "plt.show()"
   ]
  },
  {
   "cell_type": "code",
   "execution_count": null,
   "id": "deb30642",
   "metadata": {},
   "outputs": [],
   "source": []
  }
 ],
 "metadata": {
  "kernelspec": {
   "display_name": "Python 3 (ipykernel)",
   "language": "python",
   "name": "python3"
  },
  "language_info": {
   "codemirror_mode": {
    "name": "ipython",
    "version": 3
   },
   "file_extension": ".py",
   "mimetype": "text/x-python",
   "name": "python",
   "nbconvert_exporter": "python",
   "pygments_lexer": "ipython3",
   "version": "3.10.9"
  }
 },
 "nbformat": 4,
 "nbformat_minor": 5
}
